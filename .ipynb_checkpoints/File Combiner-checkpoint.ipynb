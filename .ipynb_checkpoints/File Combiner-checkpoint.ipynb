{
 "cells": [
  {
   "cell_type": "code",
   "execution_count": 1,
   "id": "0da9b0a2-a6f6-4b38-a98c-dbafb2eb2650",
   "metadata": {},
   "outputs": [],
   "source": [
    "import pandas as pd"
   ]
  },
  {
   "cell_type": "code",
   "execution_count": 2,
   "id": "e11cf050-da37-4517-b085-923a62a51bbb",
   "metadata": {
    "tags": []
   },
   "outputs": [
    {
     "name": "stdout",
     "output_type": "stream",
     "text": [
      "Requirement already satisfied: pandas in c:\\users\\owner\\anaconda3\\lib\\site-packages (1.3.4)\n",
      "Requirement already satisfied: python-dateutil>=2.7.3 in c:\\users\\owner\\anaconda3\\lib\\site-packages (from pandas) (2.8.2)\n",
      "Requirement already satisfied: pytz>=2017.3 in c:\\users\\owner\\anaconda3\\lib\\site-packages (from pandas) (2023.3)\n",
      "Requirement already satisfied: numpy>=1.17.3 in c:\\users\\owner\\anaconda3\\lib\\site-packages (from pandas) (1.20.0)\n",
      "Requirement already satisfied: six>=1.5 in c:\\users\\owner\\anaconda3\\lib\\site-packages (from python-dateutil>=2.7.3->pandas) (1.16.0)\n",
      "Note: you may need to restart the kernel to use updated packages.\n"
     ]
    },
    {
     "name": "stderr",
     "output_type": "stream",
     "text": [
      "WARNING: Ignoring invalid distribution -atplotlib (c:\\users\\owner\\anaconda3\\lib\\site-packages)\n",
      "WARNING: Ignoring invalid distribution -atplotlib (c:\\users\\owner\\anaconda3\\lib\\site-packages)\n"
     ]
    }
   ],
   "source": [
    "pip install pandas"
   ]
  },
  {
   "cell_type": "code",
   "execution_count": 3,
   "id": "d96136a9-8ab9-48e5-b801-aa84d9ff7a50",
   "metadata": {},
   "outputs": [
    {
     "name": "stdout",
     "output_type": "stream",
     "text": [
      "Requirement already satisfied: openpyxl in c:\\users\\owner\\anaconda3\\lib\\site-packages (3.0.9)\n",
      "Requirement already satisfied: et-xmlfile in c:\\users\\owner\\anaconda3\\lib\\site-packages (from openpyxl) (1.1.0)\n",
      "Note: you may need to restart the kernel to use updated packages.\n"
     ]
    },
    {
     "name": "stderr",
     "output_type": "stream",
     "text": [
      "WARNING: Ignoring invalid distribution -atplotlib (c:\\users\\owner\\anaconda3\\lib\\site-packages)\n",
      "WARNING: Ignoring invalid distribution -atplotlib (c:\\users\\owner\\anaconda3\\lib\\site-packages)\n"
     ]
    }
   ],
   "source": [
    "pip install openpyxl"
   ]
  },
  {
   "cell_type": "code",
   "execution_count": 4,
   "id": "3b6931bf-0ea4-47a4-8ef0-aab176140faf",
   "metadata": {},
   "outputs": [],
   "source": [
    "import sqlite3"
   ]
  },
  {
   "cell_type": "code",
   "execution_count": 5,
   "id": "d140d46b-259e-4a55-ba80-89c8d22c98f9",
   "metadata": {
    "tags": []
   },
   "outputs": [
    {
     "name": "stdout",
     "output_type": "stream",
     "text": [
      "Requirement already satisfied: mysql-connector-python in c:\\users\\owner\\anaconda3\\lib\\site-packages (8.0.32)\n",
      "Requirement already satisfied: protobuf<=3.20.3,>=3.11.0 in c:\\users\\owner\\anaconda3\\lib\\site-packages (from mysql-connector-python) (3.20.3)\n",
      "Note: you may need to restart the kernel to use updated packages.\n"
     ]
    },
    {
     "name": "stderr",
     "output_type": "stream",
     "text": [
      "WARNING: Ignoring invalid distribution -atplotlib (c:\\users\\owner\\anaconda3\\lib\\site-packages)\n",
      "WARNING: Ignoring invalid distribution -atplotlib (c:\\users\\owner\\anaconda3\\lib\\site-packages)\n"
     ]
    }
   ],
   "source": [
    "pip install mysql-connector-python"
   ]
  },
  {
   "cell_type": "code",
   "execution_count": 6,
   "id": "cc876fa5-d960-42ec-b43c-974ccee98dd7",
   "metadata": {
    "jupyter": {
     "source_hidden": true
    },
    "tags": []
   },
   "outputs": [],
   "source": [
    "import mysql.connector\n",
    "\n",
    "# Replace with your MySQL database connection details\n",
    "db_config = {\n",
    "    'host': 'localhost',\n",
    "    'user': 'root',\n",
    "    'password': '7845',\n",
    "    'database': 'survey',\n",
    "}\n",
    "\n",
    "# Establish the MySQL connection\n",
    "conn = mysql.connector.connect(**db_config)\n"
   ]
  },
  {
   "cell_type": "markdown",
   "id": "488e0d25-616f-4a04-8b35-d42f918233ee",
   "metadata": {},
   "source": [
    "## Mock Data Transformer"
   ]
  },
  {
   "cell_type": "code",
   "execution_count": 7,
   "id": "ddaafdc9-001b-4c88-9539-400d0364880a",
   "metadata": {},
   "outputs": [],
   "source": [
    "# Replace 'your_query' with your actual SQL query\n",
    "query = 'SELECT *FROM users JOIN options_selected ON users.id = options_selected.id'\n",
    "df = pd.read_sql_query(query, conn)\n",
    "\n",
    "# Close the MySQL connection\n",
    "conn.close()\n",
    "\n",
    "# Replace 'output_file.xlsx' with your desired Excel file name\n",
    "output_file = 'second dataset.xlsx'\n",
    "df.to_excel(output_file, index=False)"
   ]
  },
  {
   "cell_type": "code",
   "execution_count": 8,
   "id": "38d3b1f2-da47-4bc0-b07f-a851479774ef",
   "metadata": {},
   "outputs": [],
   "source": [
    "data = pd.read_excel('second dataset.xlsx')"
   ]
  },
  {
   "cell_type": "code",
   "execution_count": 9,
   "id": "c8963b36-895e-4ebf-9e3f-52ff65f98e4a",
   "metadata": {},
   "outputs": [
    {
     "data": {
      "text/html": [
       "<div>\n",
       "<style scoped>\n",
       "    .dataframe tbody tr th:only-of-type {\n",
       "        vertical-align: middle;\n",
       "    }\n",
       "\n",
       "    .dataframe tbody tr th {\n",
       "        vertical-align: top;\n",
       "    }\n",
       "\n",
       "    .dataframe thead th {\n",
       "        text-align: right;\n",
       "    }\n",
       "</style>\n",
       "<table border=\"1\" class=\"dataframe\">\n",
       "  <thead>\n",
       "    <tr style=\"text-align: right;\">\n",
       "      <th></th>\n",
       "      <th>id</th>\n",
       "      <th>age</th>\n",
       "      <th>gender</th>\n",
       "      <th>ethnicity</th>\n",
       "      <th>race</th>\n",
       "      <th>education</th>\n",
       "      <th>marital_status</th>\n",
       "      <th>income</th>\n",
       "      <th>employment</th>\n",
       "      <th>language</th>\n",
       "      <th>...</th>\n",
       "      <th>sample_4</th>\n",
       "      <th>sample_4_text</th>\n",
       "      <th>sample_5</th>\n",
       "      <th>sample_5_text</th>\n",
       "      <th>sample_6</th>\n",
       "      <th>sample_6_text</th>\n",
       "      <th>sample_7</th>\n",
       "      <th>sample_7_text</th>\n",
       "      <th>sample_8</th>\n",
       "      <th>sample_8_text</th>\n",
       "    </tr>\n",
       "  </thead>\n",
       "  <tbody>\n",
       "    <tr>\n",
       "      <th>0</th>\n",
       "      <td>1</td>\n",
       "      <td>45-54</td>\n",
       "      <td>female</td>\n",
       "      <td>hispanic</td>\n",
       "      <td>native american</td>\n",
       "      <td>Bachelor</td>\n",
       "      <td>single</td>\n",
       "      <td>Less than $25,000</td>\n",
       "      <td>Employed Part time</td>\n",
       "      <td>english</td>\n",
       "      <td>...</td>\n",
       "      <td>Simplier</td>\n",
       "      <td>Every Tuesday, Wednesday, and Thursday, people...</td>\n",
       "      <td>Persuasive</td>\n",
       "      <td>Last Friday held a touching moment for East Ha...</td>\n",
       "      <td>Empathetic</td>\n",
       "      <td>It's heart-wrenching to acknowledge that when ...</td>\n",
       "      <td>Simplier</td>\n",
       "      <td>Part of what makes food insecurity so difficul...</td>\n",
       "      <td>Simplier</td>\n",
       "      <td>Tomorrow represents a tough turning point for ...</td>\n",
       "    </tr>\n",
       "    <tr>\n",
       "      <th>1</th>\n",
       "      <td>2</td>\n",
       "      <td>25-34</td>\n",
       "      <td>male</td>\n",
       "      <td>non hispanic</td>\n",
       "      <td>black</td>\n",
       "      <td>Bachelor</td>\n",
       "      <td>widowed</td>\n",
       "      <td>$50,000 - $74,999</td>\n",
       "      <td>Unemployed</td>\n",
       "      <td>spanish</td>\n",
       "      <td>...</td>\n",
       "      <td>Empathetic</td>\n",
       "      <td>In the face of the imminent expiration of cruc...</td>\n",
       "      <td>Empathetic</td>\n",
       "      <td>When women and girls cant access the period an...</td>\n",
       "      <td>Empathetic</td>\n",
       "      <td>Our trucks deliver #freshproduce and shelf-sta...</td>\n",
       "      <td>Persuasive</td>\n",
       "      <td>At the Food Bank For New York City, we underst...</td>\n",
       "      <td>Persuasive</td>\n",
       "      <td>Don't miss this! Last month, Food Bank For New...</td>\n",
       "    </tr>\n",
       "  </tbody>\n",
       "</table>\n",
       "<p>2 rows × 32 columns</p>\n",
       "</div>"
      ],
      "text/plain": [
       "   id    age  gender     ethnicity             race education marital_status  \\\n",
       "0   1  45-54  female      hispanic  native american  Bachelor         single   \n",
       "1   2  25-34    male  non hispanic            black  Bachelor        widowed   \n",
       "\n",
       "              income          employment language  ...    sample_4  \\\n",
       "0  Less than $25,000  Employed Part time  english  ...    Simplier   \n",
       "1  $50,000 - $74,999          Unemployed  spanish  ...  Empathetic   \n",
       "\n",
       "                                       sample_4_text    sample_5  \\\n",
       "0  Every Tuesday, Wednesday, and Thursday, people...  Persuasive   \n",
       "1  In the face of the imminent expiration of cruc...  Empathetic   \n",
       "\n",
       "                                       sample_5_text    sample_6  \\\n",
       "0  Last Friday held a touching moment for East Ha...  Empathetic   \n",
       "1  When women and girls cant access the period an...  Empathetic   \n",
       "\n",
       "                                       sample_6_text    sample_7  \\\n",
       "0  It's heart-wrenching to acknowledge that when ...    Simplier   \n",
       "1  Our trucks deliver #freshproduce and shelf-sta...  Persuasive   \n",
       "\n",
       "                                       sample_7_text    sample_8  \\\n",
       "0  Part of what makes food insecurity so difficul...    Simplier   \n",
       "1  At the Food Bank For New York City, we underst...  Persuasive   \n",
       "\n",
       "                                       sample_8_text  \n",
       "0  Tomorrow represents a tough turning point for ...  \n",
       "1  Don't miss this! Last month, Food Bank For New...  \n",
       "\n",
       "[2 rows x 32 columns]"
      ]
     },
     "execution_count": 9,
     "metadata": {},
     "output_type": "execute_result"
    }
   ],
   "source": [
    "data.head(2)"
   ]
  },
  {
   "cell_type": "code",
   "execution_count": 10,
   "id": "66d64907-286c-4f15-a65a-fc2d69500e5c",
   "metadata": {},
   "outputs": [],
   "source": [
    "data = data.drop(['id', 'sample_1_text','sample_2_text','sample_3_text','sample_4_text','sample_5_text',\n",
    "              'sample_6_text','sample_7_text','sample_8_text', 'start_time', 'end_time'], axis=1)"
   ]
  },
  {
   "cell_type": "code",
   "execution_count": 11,
   "id": "2a5f20b9-57e4-4800-91ad-6c110de6b3c0",
   "metadata": {},
   "outputs": [
    {
     "data": {
      "text/html": [
       "<div>\n",
       "<style scoped>\n",
       "    .dataframe tbody tr th:only-of-type {\n",
       "        vertical-align: middle;\n",
       "    }\n",
       "\n",
       "    .dataframe tbody tr th {\n",
       "        vertical-align: top;\n",
       "    }\n",
       "\n",
       "    .dataframe thead th {\n",
       "        text-align: right;\n",
       "    }\n",
       "</style>\n",
       "<table border=\"1\" class=\"dataframe\">\n",
       "  <thead>\n",
       "    <tr style=\"text-align: right;\">\n",
       "      <th></th>\n",
       "      <th>age</th>\n",
       "      <th>gender</th>\n",
       "      <th>ethnicity</th>\n",
       "      <th>race</th>\n",
       "      <th>education</th>\n",
       "      <th>marital_status</th>\n",
       "      <th>income</th>\n",
       "      <th>employment</th>\n",
       "      <th>language</th>\n",
       "      <th>disability</th>\n",
       "      <th>...</th>\n",
       "      <th>id.1</th>\n",
       "      <th>sample_options_id</th>\n",
       "      <th>sample_1</th>\n",
       "      <th>sample_2</th>\n",
       "      <th>sample_3</th>\n",
       "      <th>sample_4</th>\n",
       "      <th>sample_5</th>\n",
       "      <th>sample_6</th>\n",
       "      <th>sample_7</th>\n",
       "      <th>sample_8</th>\n",
       "    </tr>\n",
       "  </thead>\n",
       "  <tbody>\n",
       "    <tr>\n",
       "      <th>0</th>\n",
       "      <td>45-54</td>\n",
       "      <td>female</td>\n",
       "      <td>hispanic</td>\n",
       "      <td>native american</td>\n",
       "      <td>Bachelor</td>\n",
       "      <td>single</td>\n",
       "      <td>Less than $25,000</td>\n",
       "      <td>Employed Part time</td>\n",
       "      <td>english</td>\n",
       "      <td>i do not have a disability</td>\n",
       "      <td>...</td>\n",
       "      <td>1</td>\n",
       "      <td>1</td>\n",
       "      <td>Original</td>\n",
       "      <td>Persuasive</td>\n",
       "      <td>Empathetic</td>\n",
       "      <td>Simplier</td>\n",
       "      <td>Persuasive</td>\n",
       "      <td>Empathetic</td>\n",
       "      <td>Simplier</td>\n",
       "      <td>Simplier</td>\n",
       "    </tr>\n",
       "    <tr>\n",
       "      <th>1</th>\n",
       "      <td>25-34</td>\n",
       "      <td>male</td>\n",
       "      <td>non hispanic</td>\n",
       "      <td>black</td>\n",
       "      <td>Bachelor</td>\n",
       "      <td>widowed</td>\n",
       "      <td>$50,000 - $74,999</td>\n",
       "      <td>Unemployed</td>\n",
       "      <td>spanish</td>\n",
       "      <td>i do not have a disability</td>\n",
       "      <td>...</td>\n",
       "      <td>2</td>\n",
       "      <td>2</td>\n",
       "      <td>Simplier</td>\n",
       "      <td>Empathetic</td>\n",
       "      <td>Empathetic</td>\n",
       "      <td>Empathetic</td>\n",
       "      <td>Empathetic</td>\n",
       "      <td>Empathetic</td>\n",
       "      <td>Persuasive</td>\n",
       "      <td>Persuasive</td>\n",
       "    </tr>\n",
       "    <tr>\n",
       "      <th>2</th>\n",
       "      <td>45-54</td>\n",
       "      <td>male</td>\n",
       "      <td>hispanic</td>\n",
       "      <td>white</td>\n",
       "      <td>less than high school</td>\n",
       "      <td>single</td>\n",
       "      <td>Less than $25,000</td>\n",
       "      <td>Employed Full time</td>\n",
       "      <td>english</td>\n",
       "      <td>i do not have a disability</td>\n",
       "      <td>...</td>\n",
       "      <td>3</td>\n",
       "      <td>3</td>\n",
       "      <td>Simplier</td>\n",
       "      <td>Original</td>\n",
       "      <td>Empathetic</td>\n",
       "      <td>Persuasive</td>\n",
       "      <td>Persuasive</td>\n",
       "      <td>Empathetic</td>\n",
       "      <td>Original</td>\n",
       "      <td>Original</td>\n",
       "    </tr>\n",
       "  </tbody>\n",
       "</table>\n",
       "<p>3 rows × 21 columns</p>\n",
       "</div>"
      ],
      "text/plain": [
       "     age  gender     ethnicity             race              education  \\\n",
       "0  45-54  female      hispanic  native american               Bachelor   \n",
       "1  25-34    male  non hispanic            black               Bachelor   \n",
       "2  45-54    male      hispanic            white  less than high school   \n",
       "\n",
       "  marital_status             income          employment language  \\\n",
       "0         single  Less than $25,000  Employed Part time  english   \n",
       "1        widowed  $50,000 - $74,999          Unemployed  spanish   \n",
       "2         single  Less than $25,000  Employed Full time  english   \n",
       "\n",
       "                   disability  ... id.1  sample_options_id  sample_1  \\\n",
       "0  i do not have a disability  ...    1                  1  Original   \n",
       "1  i do not have a disability  ...    2                  2  Simplier   \n",
       "2  i do not have a disability  ...    3                  3  Simplier   \n",
       "\n",
       "     sample_2    sample_3    sample_4    sample_5    sample_6    sample_7  \\\n",
       "0  Persuasive  Empathetic    Simplier  Persuasive  Empathetic    Simplier   \n",
       "1  Empathetic  Empathetic  Empathetic  Empathetic  Empathetic  Persuasive   \n",
       "2    Original  Empathetic  Persuasive  Persuasive  Empathetic    Original   \n",
       "\n",
       "     sample_8  \n",
       "0    Simplier  \n",
       "1  Persuasive  \n",
       "2    Original  \n",
       "\n",
       "[3 rows x 21 columns]"
      ]
     },
     "execution_count": 11,
     "metadata": {},
     "output_type": "execute_result"
    }
   ],
   "source": [
    "data.head(3)"
   ]
  },
  {
   "cell_type": "code",
   "execution_count": 12,
   "id": "e2f829a8-f358-46d6-ae56-d41a5629d94f",
   "metadata": {
    "tags": []
   },
   "outputs": [],
   "source": [
    "df = pd.read_excel('initial dataset.xlsx')"
   ]
  },
  {
   "cell_type": "code",
   "execution_count": 13,
   "id": "bca9cc9f-85c1-4dfa-8a83-715292c612e6",
   "metadata": {},
   "outputs": [],
   "source": [
    "df = df.drop(['id', 'sample_1_text','sample_2_text','sample_3_text','sample_4_text','sample_5_text',\n",
    "              'sample_6_text','sample_7_text','sample_8_text', 'start_time', 'end_time','Unnamed: 0'], axis=1)"
   ]
  },
  {
   "cell_type": "code",
   "execution_count": 14,
   "id": "35afec76-f01a-4264-a0d7-fd328fc29773",
   "metadata": {},
   "outputs": [
    {
     "data": {
      "text/html": [
       "<div>\n",
       "<style scoped>\n",
       "    .dataframe tbody tr th:only-of-type {\n",
       "        vertical-align: middle;\n",
       "    }\n",
       "\n",
       "    .dataframe tbody tr th {\n",
       "        vertical-align: top;\n",
       "    }\n",
       "\n",
       "    .dataframe thead th {\n",
       "        text-align: right;\n",
       "    }\n",
       "</style>\n",
       "<table border=\"1\" class=\"dataframe\">\n",
       "  <thead>\n",
       "    <tr style=\"text-align: right;\">\n",
       "      <th></th>\n",
       "      <th>age</th>\n",
       "      <th>gender</th>\n",
       "      <th>ethnicity</th>\n",
       "      <th>race</th>\n",
       "      <th>education</th>\n",
       "      <th>marital_status</th>\n",
       "      <th>income</th>\n",
       "      <th>employment</th>\n",
       "      <th>language</th>\n",
       "      <th>disability</th>\n",
       "      <th>...</th>\n",
       "      <th>id.1</th>\n",
       "      <th>sample_options_id</th>\n",
       "      <th>sample_1</th>\n",
       "      <th>sample_2</th>\n",
       "      <th>sample_3</th>\n",
       "      <th>sample_4</th>\n",
       "      <th>sample_5</th>\n",
       "      <th>sample_6</th>\n",
       "      <th>sample_7</th>\n",
       "      <th>sample_8</th>\n",
       "    </tr>\n",
       "  </thead>\n",
       "  <tbody>\n",
       "    <tr>\n",
       "      <th>0</th>\n",
       "      <td>45-54</td>\n",
       "      <td>female</td>\n",
       "      <td>non hispanic</td>\n",
       "      <td>native american</td>\n",
       "      <td>High School</td>\n",
       "      <td>na</td>\n",
       "      <td>$25,000 - $49,999</td>\n",
       "      <td>Employed Part time</td>\n",
       "      <td>both</td>\n",
       "      <td>i do not have a disability</td>\n",
       "      <td>...</td>\n",
       "      <td>1</td>\n",
       "      <td>1</td>\n",
       "      <td>Persuasive</td>\n",
       "      <td>Simplier</td>\n",
       "      <td>Empathetic</td>\n",
       "      <td>Persuasive</td>\n",
       "      <td>Original</td>\n",
       "      <td>Original</td>\n",
       "      <td>Persuasive</td>\n",
       "      <td>Original</td>\n",
       "    </tr>\n",
       "    <tr>\n",
       "      <th>1</th>\n",
       "      <td>18-24</td>\n",
       "      <td>male</td>\n",
       "      <td>hispanic</td>\n",
       "      <td>white</td>\n",
       "      <td>High School</td>\n",
       "      <td>single</td>\n",
       "      <td>Less than $25,000</td>\n",
       "      <td>Employed Part time</td>\n",
       "      <td>english</td>\n",
       "      <td>i do not have a disability</td>\n",
       "      <td>...</td>\n",
       "      <td>2</td>\n",
       "      <td>2</td>\n",
       "      <td>Original</td>\n",
       "      <td>Simplier</td>\n",
       "      <td>Empathetic</td>\n",
       "      <td>Simplier</td>\n",
       "      <td>Simplier</td>\n",
       "      <td>Original</td>\n",
       "      <td>Original</td>\n",
       "      <td>Persuasive</td>\n",
       "    </tr>\n",
       "    <tr>\n",
       "      <th>2</th>\n",
       "      <td>25-34</td>\n",
       "      <td>female</td>\n",
       "      <td>non hispanic</td>\n",
       "      <td>multiracial</td>\n",
       "      <td>Associate</td>\n",
       "      <td>single</td>\n",
       "      <td>Less than $25,000</td>\n",
       "      <td>Student</td>\n",
       "      <td>english</td>\n",
       "      <td>i do not have a disability</td>\n",
       "      <td>...</td>\n",
       "      <td>3</td>\n",
       "      <td>3</td>\n",
       "      <td>Original</td>\n",
       "      <td>Original</td>\n",
       "      <td>Simplier</td>\n",
       "      <td>Simplier</td>\n",
       "      <td>Empathetic</td>\n",
       "      <td>Empathetic</td>\n",
       "      <td>Empathetic</td>\n",
       "      <td>Simplier</td>\n",
       "    </tr>\n",
       "  </tbody>\n",
       "</table>\n",
       "<p>3 rows × 21 columns</p>\n",
       "</div>"
      ],
      "text/plain": [
       "     age  gender     ethnicity             race    education marital_status  \\\n",
       "0  45-54  female  non hispanic  native american  High School             na   \n",
       "1  18-24    male      hispanic            white  High School         single   \n",
       "2  25-34  female  non hispanic      multiracial    Associate         single   \n",
       "\n",
       "              income          employment language                  disability  \\\n",
       "0  $25,000 - $49,999  Employed Part time     both  i do not have a disability   \n",
       "1  Less than $25,000  Employed Part time  english  i do not have a disability   \n",
       "2  Less than $25,000             Student  english  i do not have a disability   \n",
       "\n",
       "   ... id.1  sample_options_id    sample_1  sample_2    sample_3    sample_4  \\\n",
       "0  ...    1                  1  Persuasive  Simplier  Empathetic  Persuasive   \n",
       "1  ...    2                  2    Original  Simplier  Empathetic    Simplier   \n",
       "2  ...    3                  3    Original  Original    Simplier    Simplier   \n",
       "\n",
       "     sample_5    sample_6    sample_7    sample_8  \n",
       "0    Original    Original  Persuasive    Original  \n",
       "1    Simplier    Original    Original  Persuasive  \n",
       "2  Empathetic  Empathetic  Empathetic    Simplier  \n",
       "\n",
       "[3 rows x 21 columns]"
      ]
     },
     "execution_count": 14,
     "metadata": {},
     "output_type": "execute_result"
    }
   ],
   "source": [
    "df.head(3)"
   ]
  },
  {
   "cell_type": "markdown",
   "id": "9c4c7f14-0625-46fa-8862-f3b70dad20ae",
   "metadata": {},
   "source": [
    "## Combine prior and new datasets"
   ]
  },
  {
   "cell_type": "code",
   "execution_count": 15,
   "id": "8d6efa20-d113-4866-bea9-5edea093f3c0",
   "metadata": {},
   "outputs": [],
   "source": [
    "final_data = pd.concat([df, data], ignore_index=True)"
   ]
  },
  {
   "cell_type": "code",
   "execution_count": 16,
   "id": "7b0f98a3-29bf-41f2-b442-ff8213fe72d4",
   "metadata": {},
   "outputs": [
    {
     "data": {
      "text/plain": [
       "Index(['age', 'gender', 'ethnicity', 'race', 'education', 'marital_status',\n",
       "       'income', 'employment', 'language', 'disability', 'states', 'id.1',\n",
       "       'sample_options_id', 'sample_1', 'sample_2', 'sample_3', 'sample_4',\n",
       "       'sample_5', 'sample_6', 'sample_7', 'sample_8'],\n",
       "      dtype='object')"
      ]
     },
     "execution_count": 16,
     "metadata": {},
     "output_type": "execute_result"
    }
   ],
   "source": [
    "final_data.columns"
   ]
  },
  {
   "cell_type": "markdown",
   "id": "356b4324-a917-4c09-aa7b-379c2d15298e",
   "metadata": {},
   "source": [
    "## Check datasets"
   ]
  },
  {
   "cell_type": "code",
   "execution_count": 17,
   "id": "d43770b3-a6b1-4787-b155-d3fb5336c58e",
   "metadata": {},
   "outputs": [
    {
     "data": {
      "text/plain": [
       "(15, 21)"
      ]
     },
     "execution_count": 17,
     "metadata": {},
     "output_type": "execute_result"
    }
   ],
   "source": [
    "df.shape"
   ]
  },
  {
   "cell_type": "code",
   "execution_count": 18,
   "id": "5e925be7-a836-4af8-bb2f-b6fc9c440507",
   "metadata": {},
   "outputs": [
    {
     "data": {
      "text/plain": [
       "(35, 21)"
      ]
     },
     "execution_count": 18,
     "metadata": {},
     "output_type": "execute_result"
    }
   ],
   "source": [
    "data.shape"
   ]
  },
  {
   "cell_type": "code",
   "execution_count": 19,
   "id": "abc21ece-a71c-43f9-84d7-2858b9103373",
   "metadata": {},
   "outputs": [
    {
     "data": {
      "text/plain": [
       "(50, 21)"
      ]
     },
     "execution_count": 19,
     "metadata": {},
     "output_type": "execute_result"
    }
   ],
   "source": [
    "final_data.shape"
   ]
  },
  {
   "cell_type": "markdown",
   "id": "7a5bafb4-9d51-4510-a924-8299814a6e5d",
   "metadata": {},
   "source": [
    "## Export dataset for data analysis"
   ]
  },
  {
   "cell_type": "code",
   "execution_count": 21,
   "id": "f5ac072c-4b0c-4b72-95ef-af97c63f8de2",
   "metadata": {},
   "outputs": [],
   "source": [
    "final_data.to_excel('final_data.xlsx', index=False)"
   ]
  },
  {
   "cell_type": "code",
   "execution_count": null,
   "id": "86b48cf5-75d8-461b-aa8f-85f9d3f2ecda",
   "metadata": {},
   "outputs": [],
   "source": []
  }
 ],
 "metadata": {
  "kernelspec": {
   "display_name": "Python 3 (ipykernel)",
   "language": "python",
   "name": "python3"
  },
  "language_info": {
   "codemirror_mode": {
    "name": "ipython",
    "version": 3
   },
   "file_extension": ".py",
   "mimetype": "text/x-python",
   "name": "python",
   "nbconvert_exporter": "python",
   "pygments_lexer": "ipython3",
   "version": "3.9.7"
  }
 },
 "nbformat": 4,
 "nbformat_minor": 5
}
