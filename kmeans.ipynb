{
 "cells": [
  {
   "cell_type": "code",
   "execution_count": 2,
   "metadata": {},
   "outputs": [
    {
     "name": "stdout",
     "output_type": "stream",
     "text": [
      "Note: you may need to restart the kernel to use updated packages.\n"
     ]
    },
    {
     "name": "stderr",
     "output_type": "stream",
     "text": [
      "ERROR: Invalid requirement: 'matplotlib,'\n",
      "\n",
      "[notice] A new release of pip is available: 23.3.2 -> 24.0\n",
      "[notice] To update, run: python.exe -m pip install --upgrade pip\n"
     ]
    }
   ],
   "source": [
    "pip install matplotlib, pandas, openpyxl, scikit-learn, plotly, --upgrade nbformat"
   ]
  },
  {
   "cell_type": "markdown",
   "metadata": {},
   "source": [
    "## Dimensionality Reduction: Principal Component Analysis"
   ]
  },
  {
   "cell_type": "code",
   "execution_count": 3,
   "metadata": {},
   "outputs": [],
   "source": [
    "import pandas as pd\n",
    "import matplotlib.pyplot as plt\n",
    "import numpy as np\n",
    "from sklearn.cluster import KMeans\n",
    "from sklearn.metrics import silhouette_samples, silhouette_score\n",
    "from sklearn.preprocessing import StandardScaler"
   ]
  },
  {
   "cell_type": "code",
   "execution_count": 4,
   "metadata": {},
   "outputs": [],
   "source": [
    "encoded_data = pd.read_excel('Datasets/Encoded_Data_for_Model_Training_2.xlsx')"
   ]
  },
  {
   "cell_type": "code",
   "execution_count": 5,
   "metadata": {},
   "outputs": [
    {
     "data": {
      "text/html": [
       "<div>\n",
       "<style scoped>\n",
       "    .dataframe tbody tr th:only-of-type {\n",
       "        vertical-align: middle;\n",
       "    }\n",
       "\n",
       "    .dataframe tbody tr th {\n",
       "        vertical-align: top;\n",
       "    }\n",
       "\n",
       "    .dataframe thead th {\n",
       "        text-align: right;\n",
       "    }\n",
       "</style>\n",
       "<table border=\"1\" class=\"dataframe\">\n",
       "  <thead>\n",
       "    <tr style=\"text-align: right;\">\n",
       "      <th></th>\n",
       "      <th>age</th>\n",
       "      <th>income</th>\n",
       "      <th>gender_female</th>\n",
       "      <th>gender_male</th>\n",
       "      <th>gender_non binary</th>\n",
       "      <th>ethnicity_hispanic</th>\n",
       "      <th>ethnicity_non hispanic</th>\n",
       "      <th>education_Associate</th>\n",
       "      <th>education_Bachelor</th>\n",
       "      <th>education_Doctorate</th>\n",
       "      <th>...</th>\n",
       "      <th>employment_Retired</th>\n",
       "      <th>employment_Self employed</th>\n",
       "      <th>employment_Student</th>\n",
       "      <th>employment_Unemployed</th>\n",
       "      <th>disability_i do not have a disability</th>\n",
       "      <th>disability_undisclosed</th>\n",
       "      <th>choice_Empathetic</th>\n",
       "      <th>choice_Original</th>\n",
       "      <th>choice_Persuasive</th>\n",
       "      <th>choice_Simplier</th>\n",
       "    </tr>\n",
       "  </thead>\n",
       "  <tbody>\n",
       "    <tr>\n",
       "      <th>0</th>\n",
       "      <td>3</td>\n",
       "      <td>1</td>\n",
       "      <td>True</td>\n",
       "      <td>False</td>\n",
       "      <td>False</td>\n",
       "      <td>False</td>\n",
       "      <td>True</td>\n",
       "      <td>False</td>\n",
       "      <td>False</td>\n",
       "      <td>False</td>\n",
       "      <td>...</td>\n",
       "      <td>False</td>\n",
       "      <td>False</td>\n",
       "      <td>False</td>\n",
       "      <td>False</td>\n",
       "      <td>True</td>\n",
       "      <td>False</td>\n",
       "      <td>False</td>\n",
       "      <td>False</td>\n",
       "      <td>True</td>\n",
       "      <td>False</td>\n",
       "    </tr>\n",
       "    <tr>\n",
       "      <th>1</th>\n",
       "      <td>0</td>\n",
       "      <td>0</td>\n",
       "      <td>False</td>\n",
       "      <td>True</td>\n",
       "      <td>False</td>\n",
       "      <td>True</td>\n",
       "      <td>False</td>\n",
       "      <td>False</td>\n",
       "      <td>False</td>\n",
       "      <td>False</td>\n",
       "      <td>...</td>\n",
       "      <td>False</td>\n",
       "      <td>False</td>\n",
       "      <td>False</td>\n",
       "      <td>False</td>\n",
       "      <td>True</td>\n",
       "      <td>False</td>\n",
       "      <td>False</td>\n",
       "      <td>True</td>\n",
       "      <td>False</td>\n",
       "      <td>False</td>\n",
       "    </tr>\n",
       "    <tr>\n",
       "      <th>2</th>\n",
       "      <td>1</td>\n",
       "      <td>0</td>\n",
       "      <td>True</td>\n",
       "      <td>False</td>\n",
       "      <td>False</td>\n",
       "      <td>False</td>\n",
       "      <td>True</td>\n",
       "      <td>True</td>\n",
       "      <td>False</td>\n",
       "      <td>False</td>\n",
       "      <td>...</td>\n",
       "      <td>False</td>\n",
       "      <td>False</td>\n",
       "      <td>True</td>\n",
       "      <td>False</td>\n",
       "      <td>True</td>\n",
       "      <td>False</td>\n",
       "      <td>False</td>\n",
       "      <td>True</td>\n",
       "      <td>False</td>\n",
       "      <td>False</td>\n",
       "    </tr>\n",
       "  </tbody>\n",
       "</table>\n",
       "<p>3 rows × 26 columns</p>\n",
       "</div>"
      ],
      "text/plain": [
       "   age  income  gender_female  gender_male  gender_non binary  \\\n",
       "0    3       1           True        False              False   \n",
       "1    0       0          False         True              False   \n",
       "2    1       0           True        False              False   \n",
       "\n",
       "   ethnicity_hispanic  ethnicity_non hispanic  education_Associate  \\\n",
       "0               False                    True                False   \n",
       "1                True                   False                False   \n",
       "2               False                    True                 True   \n",
       "\n",
       "   education_Bachelor  education_Doctorate  ...  employment_Retired  \\\n",
       "0               False                False  ...               False   \n",
       "1               False                False  ...               False   \n",
       "2               False                False  ...               False   \n",
       "\n",
       "   employment_Self employed  employment_Student  employment_Unemployed  \\\n",
       "0                     False               False                  False   \n",
       "1                     False               False                  False   \n",
       "2                     False                True                  False   \n",
       "\n",
       "   disability_i do not have a disability  disability_undisclosed  \\\n",
       "0                                   True                   False   \n",
       "1                                   True                   False   \n",
       "2                                   True                   False   \n",
       "\n",
       "   choice_Empathetic  choice_Original  choice_Persuasive  choice_Simplier  \n",
       "0              False            False               True            False  \n",
       "1              False             True              False            False  \n",
       "2              False             True              False            False  \n",
       "\n",
       "[3 rows x 26 columns]"
      ]
     },
     "execution_count": 5,
     "metadata": {},
     "output_type": "execute_result"
    }
   ],
   "source": [
    "encoded_data.head(3)"
   ]
  },
  {
   "cell_type": "code",
   "execution_count": 6,
   "metadata": {},
   "outputs": [
    {
     "data": {
      "text/plain": [
       "(400, 26)"
      ]
     },
     "execution_count": 6,
     "metadata": {},
     "output_type": "execute_result"
    }
   ],
   "source": [
    "encoded_data.shape"
   ]
  },
  {
   "cell_type": "markdown",
   "metadata": {},
   "source": [
    "## Standardize the data"
   ]
  },
  {
   "cell_type": "code",
   "execution_count": 7,
   "metadata": {},
   "outputs": [],
   "source": [
    "scaler = StandardScaler()\n",
    "encoded_scaled = scaler.fit_transform(encoded_data)\n",
    "# encoded_data = encoded_scaled"
   ]
  },
  {
   "cell_type": "code",
   "execution_count": 8,
   "metadata": {},
   "outputs": [
    {
     "data": {
      "image/png": "[encoded data removed]",
      "text/plain": [
       "<Figure size 640x480 with 1 Axes>"
      ]
     },
     "metadata": {},
     "output_type": "display_data"
    }
   ],
   "source": [
    "wcss = []\n",
    "for k in range(1, 11):\n",
    "    kmeans = KMeans(n_clusters=k, random_state=42, n_init='auto')\n",
    "    kmeans.fit(encoded_scaled)\n",
    "    wcss.append(kmeans.inertia_)  # Inertia is the WCSS\n",
    "\n",
    "# Plotting the elbow curve\n",
    "plt.plot(range(1, 11), wcss, marker='o')\n",
    "plt.title('Elbow Method for selection of optimal \"K\" clusters')\n",
    "plt.xlabel('Number of Clusters (K)')\n",
    "plt.ylabel('WCSS (Within-Cluster Sum of Squares)')\n",
    "plt.show()"
   ]
  },
  {
   "cell_type": "code",
   "execution_count": 9,
   "metadata": {},
   "outputs": [
    {
     "name": "stdout",
     "output_type": "stream",
     "text": [
      "For n_clusters = 2, the average silhouette score is: 0.13013821957690208\n",
      "For n_clusters = 3, the average silhouette score is: 0.08405270669969868\n",
      "For n_clusters = 4, the average silhouette score is: 0.09502403076997823\n",
      "For n_clusters = 5, the average silhouette score is: 0.11469876055898402\n",
      "For n_clusters = 6, the average silhouette score is: 0.12987136546651548\n",
      "For n_clusters = 7, the average silhouette score is: 0.14278806905225172\n"
     ]
    },
    {
     "data": {
      "image/png": "[encoded data removed]",
      "text/plain": [
       "<Figure size 1200x400 with 2 Axes>"
      ]
     },
     "metadata": {},
     "output_type": "display_data"
    },
    {
     "data": {
      "image/png": "[encoded data removed]",
      "text/plain": [
       "<Figure size 1200x400 with 2 Axes>"
      ]
     },
     "metadata": {},
     "output_type": "display_data"
    },
    {
     "data": {
      "image/png": "[encoded data removed]",
      "text/plain": [
       "<Figure size 1200x400 with 2 Axes>"
      ]
     },
     "metadata": {},
     "output_type": "display_data"
    },
    {
     "data": {
      "image/png": "[encoded data removed]",
      "text/plain": [
       "<Figure size 1200x400 with 2 Axes>"
      ]
     },
     "metadata": {},
     "output_type": "display_data"
    },
    {
     "data": {
      "image/png": "[encoded data removed]",
      "text/plain": [
       "<Figure size 1200x400 with 2 Axes>"
      ]
     },
     "metadata": {},
     "output_type": "display_data"
    },
    {
     "data": {
      "image/png": "[encoded data removed]",
      "text/plain": [
       "<Figure size 1200x400 with 2 Axes>"
      ]
     },
     "metadata": {},
     "output_type": "display_data"
    }
   ],
   "source": [
    "from sklearn.cluster import KMeans\n",
    "from sklearn.metrics import silhouette_score, silhouette_samples\n",
    "import numpy as np\n",
    "import matplotlib.pyplot as plt\n",
    "\n",
    "# Range of cluster numbers (K) to evaluate\n",
    "range_n_clusters = [2, 3, 4, 5, 6, 7]\n",
    "\n",
    "for n_clusters in range_n_clusters:\n",
    "    # Create a subplot with 1 row and 2 columns\n",
    "    fig, (ax1, ax2) = plt.subplots(1, 2, figsize=(12, 4))\n",
    "\n",
    "    # The 1st subplot is the silhouette plot\n",
    "    ax1.set_xlim([-0.1, 1])\n",
    "    ax1.set_ylim([0, len(encoded_data) + (n_clusters + 1) * 10])\n",
    "\n",
    "    # Initialize the KMeans object and fit it to the data\n",
    "    kmeans = KMeans(n_clusters=n_clusters, random_state=42, n_init='auto')\n",
    "    cluster_labels = kmeans.fit_predict(encoded_scaled)\n",
    "\n",
    "    # Compute the silhouette score for the current clustering\n",
    "    silhouette_avg = silhouette_score(encoded_scaled, cluster_labels)\n",
    "    print(f\"For n_clusters = {n_clusters}, the average silhouette score is: {silhouette_avg}\")\n",
    "\n",
    "    # Compute the silhouette scores for each sample\n",
    "    sample_silhouette_values = silhouette_samples(encoded_scaled, cluster_labels)\n",
    "\n",
    "    y_lower = 10\n",
    "    for i in range(n_clusters):\n",
    "        ith_cluster_silhouette_values = sample_silhouette_values[cluster_labels == i]\n",
    "        ith_cluster_silhouette_values.sort()\n",
    "\n",
    "        size_cluster_i = ith_cluster_silhouette_values.shape[0]\n",
    "        y_upper = y_lower + size_cluster_i\n",
    "\n",
    "        color = plt.cm.nipy_spectral(float(i) / n_clusters)\n",
    "        ax1.fill_betweenx(np.arange(y_lower, y_upper),\n",
    "                          0, ith_cluster_silhouette_values,\n",
    "                          facecolor=color, edgecolor=color, alpha=0.7)\n",
    "        \n",
    "        ax1.text(-0.05, y_lower + 0.5 * size_cluster_i, str(i))\n",
    "        y_lower = y_upper + 10\n",
    "\n",
    "    ax1.set_title(\"Silhouette plot for the various clusters.\")\n",
    "    ax1.set_xlabel(\"Silhouette coefficient values\")\n",
    "    ax1.set_ylabel(\"Cluster label\")\n",
    "\n",
    "    ax1.axvline(x=silhouette_avg, color=\"red\", linestyle=\"--\")\n",
    "    ax1.set_yticks([])\n",
    "    ax1.set_xticks([-0.1, 0, 0.2, 0.4, 0.6, 0.8, 1])\n",
    "\n",
    "    # 2nd Plot showing the actual clusters formed\n",
    "    colors = plt.cm.nipy_spectral(cluster_labels.astype(float) / n_clusters)\n",
    "    ax2.scatter(encoded_data.iloc[:, 0], encoded_data.iloc[:, 1], marker='.', s=30, lw=0, alpha=0.7,\n",
    "                c=colors, edgecolor='k')\n",
    "\n",
    "    centers = kmeans.cluster_centers_\n",
    "    ax2.scatter(centers[:, 0], centers[:, 1], marker='o',\n",
    "                c=\"white\", alpha=1, s=200, edgecolor='k')\n",
    "\n",
    "    for i, c in enumerate(centers):\n",
    "        ax2.scatter(c[0], c[1], marker='$%d$' % i, alpha=1,\n",
    "                    s=50, edgecolor='k')\n",
    "\n",
    "    ax2.set_title(\"Visualization of clustered data.\")\n",
    "    ax2.set_xlabel(\"Feature space for the 1st feature\")\n",
    "    ax2.set_ylabel(\"Feature space for the 2nd feature\")\n",
    "\n",
    "    plt.suptitle((\"Silhouette analysis for KMeans clustering with n_clusters = %d\" % n_clusters),\n",
    "                 fontsize=14, fontweight='bold')\n",
    "\n",
    "plt.show()\n"
   ]
  },
  {
   "cell_type": "code",
   "execution_count": 10,
   "metadata": {},
   "outputs": [
    {
     "data": {
      "image/png": "[encoded data removed]",
      "text/plain": [
       "<Figure size 640x480 with 1 Axes>"
      ]
     },
     "metadata": {},
     "output_type": "display_data"
    }
   ],
   "source": [
    "kmeans = KMeans(n_clusters=3, random_state=42, n_init='auto')\n",
    "cluster_labels = kmeans.fit_predict(encoded_data)\n",
    "# Scatter plot of data points\n",
    "plt.scatter(encoded_data.iloc[:, 0], encoded_data.iloc[:, 1], c=cluster_labels, alpha=0.5, label='Data Points')\n",
    "\n",
    "# Scatter plot of centroids\n",
    "plt.scatter(kmeans.cluster_centers_[:, 0], kmeans.cluster_centers_[:, 1], marker='D', s=50, c='red', label='Centroids')\n",
    "\n",
    "# Show the plot\n",
    "plt.legend()\n",
    "plt.title('K-Means Clustering with Centroids')\n",
    "plt.xlabel('Feature 1')\n",
    "plt.ylabel('Feature 2')\n",
    "plt.show()"
   ]
  },
  {
   "cell_type": "code",
   "execution_count": 11,
   "metadata": {},
   "outputs": [
    {
     "data": {
      "application/vnd.plotly.v1+json": {
       "config": {
        "plotlyServerURL": "https://plot.ly"
       },
       "data": [
        {
         "hovertemplate": "PCA Feature 1=%{x}<br>PCA Feature 2=%{y}<br>color=%{marker.color}<extra></extra>",
         "legendgroup": "",
         "marker": {
          "color": [
           2,
           1,
           1,
           1,
           0,
           0,
           1,
           0,
           1,
           0,
           1,
           1,
           2,
           1,
           1,
           2,
           0,
           2,
           2,
           1,
           2,
           2,
           2,
           1,
           2,
           2,
           1,
           1,
           1,
           0,
           2,
           2,
           1,
           0,
           2,
           2,
           0,
           0,
           0,
           0,
           0,
           2,
           2,
           2,
           0,
           1,
           0,
           1,
           0,
           0,
           2,
           1,
           1,
           1,
           0,
           0,
           1,
           0,
           1,
           0,
           1,
           1,
           2,
           1,
           1,
           2,
           0,
           2,
           2,
           1,
           2,
           2,
           2,
           1,
           2,
           2,
           1,
           1,
           1,
           0,
           2,
           2,
           1,
           0,
           2,
           2,
           0,
           0,
           0,
           0,
           0,
           2,
           2,
           2,
           0,
           1,
           0,
           1,
           0,
           0,
           2,
           1,
           1,
           1,
           0,
           0,
           1,
           0,
           1,
           0,
           1,
           1,
           2,
           1,
           1,
           2,
           0,
           2,
           2,
           1,
           2,
           2,
           2,
           1,
           2,
           2,
           1,
           1,
           1,
           0,
           2,
           2,
           1,
           0,
           2,
           2,
           0,
           0,
           0,
           0,
           0,
           2,
           2,
           2,
           0,
           1,
           0,
           1,
           0,
           0,
           2,
           1,
           1,
           1,
           0,
           0,
           1,
           0,
           1,
           0,
           1,
           1,
           2,
           1,
           1,
           2,
           0,
           2,
           2,
           1,
           2,
           2,
           2,
           1,
           2,
           2,
           1,
           1,
           1,
           0,
           2,
           2,
           1,
           0,
           2,
           2,
           0,
           0,
           0,
           0,
           0,
           2,
           2,
           2,
           0,
           1,
           0,
           1,
           0,
           0,
           2,
           1,
           1,
           1,
           0,
           0,
           1,
           0,
           1,
           0,
           1,
           1,
           2,
           1,
           1,
           2,
           0,
           2,
           2,
           1,
           2,
           2,
           2,
           1,
           2,
           2,
           1,
           1,
           1,
           0,
           2,
           2,
           1,
           0,
           2,
           2,
           0,
           0,
           0,
           0,
           0,
           2,
           2,
           2,
           0,
           1,
           0,
           1,
           0,
           0,
           2,
           1,
           1,
           1,
           0,
           0,
           1,
           0,
           1,
           0,
           1,
           1,
           2,
           1,
           1,
           2,
           0,
           2,
           2,
           1,
           2,
           2,
           2,
           1,
           2,
           2,
           1,
           1,
           1,
           0,
           2,
           2,
           1,
           0,
           2,
           2,
           0,
           0,
           0,
           0,
           0,
           2,
           2,
           2,
           0,
           1,
           0,
           1,
           0,
           0,
           2,
           1,
           1,
           1,
           0,
           0,
           1,
           0,
           1,
           0,
           1,
           1,
           2,
           1,
           1,
           2,
           0,
           2,
           2,
           1,
           2,
           2,
           2,
           1,
           2,
           2,
           1,
           1,
           1,
           0,
           2,
           2,
           1,
           0,
           2,
           2,
           0,
           0,
           0,
           0,
           0,
           2,
           2,
           2,
           0,
           1,
           0,
           1,
           0,
           0,
           2,
           1,
           1,
           1,
           0,
           0,
           1,
           0,
           1,
           0,
           1,
           1,
           2,
           1,
           1,
           2,
           0,
           2,
           2,
           1,
           2,
           2,
           2,
           1,
           2,
           2,
           1,
           1,
           1,
           0,
           2,
           2,
           1,
           0,
           2,
           2,
           0,
           0,
           0,
           0,
           0,
           2,
           2,
           2,
           0,
           1,
           0,
           1,
           0,
           0
          ],
          "coloraxis": "coloraxis",
          "opacity": 0.5,
          "symbol": "circle"
         },
         "mode": "markers",
         "name": "",
         "orientation": "v",
         "showlegend": false,
         "type": "scatter",
         "x": [
          3,
          0,
          1,
          1,
          0,
          1,
          0,
          1,
          1,
          1,
          0,
          0,
          3,
          1,
          1,
          3,
          1,
          3,
          4,
          1,
          3,
          3,
          3,
          1,
          3,
          4,
          0,
          0,
          0,
          -1,
          2,
          2,
          1,
          1,
          3,
          3,
          1,
          2,
          1,
          -1,
          -1,
          4,
          4,
          3,
          1,
          -1,
          1,
          1,
          1,
          1,
          3,
          0,
          1,
          1,
          0,
          1,
          0,
          1,
          1,
          1,
          0,
          0,
          3,
          1,
          1,
          3,
          1,
          3,
          4,
          1,
          3,
          3,
          3,
          1,
          3,
          4,
          0,
          0,
          0,
          -1,
          2,
          2,
          1,
          1,
          3,
          3,
          1,
          2,
          1,
          -1,
          -1,
          4,
          4,
          3,
          1,
          -1,
          1,
          1,
          1,
          1,
          3,
          0,
          1,
          1,
          0,
          1,
          0,
          1,
          1,
          1,
          0,
          0,
          3,
          1,
          1,
          3,
          1,
          3,
          4,
          1,
          3,
          3,
          3,
          1,
          3,
          4,
          0,
          0,
          0,
          -1,
          2,
          2,
          1,
          1,
          3,
          3,
          1,
          2,
          1,
          -1,
          -1,
          4,
          4,
          3,
          1,
          -1,
          1,
          1,
          1,
          1,
          3,
          0,
          1,
          1,
          0,
          1,
          0,
          1,
          1,
          1,
          0,
          0,
          3,
          1,
          1,
          3,
          1,
          3,
          4,
          1,
          3,
          3,
          3,
          1,
          3,
          4,
          0,
          0,
          0,
          -1,
          2,
          2,
          1,
          1,
          3,
          3,
          1,
          2,
          1,
          -1,
          -1,
          4,
          4,
          3,
          1,
          -1,
          1,
          1,
          1,
          1,
          3,
          0,
          1,
          1,
          0,
          1,
          0,
          1,
          1,
          1,
          0,
          0,
          3,
          1,
          1,
          3,
          1,
          3,
          4,
          1,
          3,
          3,
          3,
          1,
          3,
          4,
          0,
          0,
          0,
          -1,
          2,
          2,
          1,
          1,
          3,
          3,
          1,
          2,
          1,
          -1,
          -1,
          4,
          4,
          3,
          1,
          -1,
          1,
          1,
          1,
          1,
          3,
          0,
          1,
          1,
          0,
          1,
          0,
          1,
          1,
          1,
          0,
          0,
          3,
          1,
          1,
          3,
          1,
          3,
          4,
          1,
          3,
          3,
          3,
          1,
          3,
          4,
          0,
          0,
          0,
          -1,
          2,
          2,
          1,
          1,
          3,
          3,
          1,
          2,
          1,
          -1,
          -1,
          4,
          4,
          3,
          1,
          -1,
          1,
          1,
          1,
          1,
          3,
          0,
          1,
          1,
          0,
          1,
          0,
          1,
          1,
          1,
          0,
          0,
          3,
          1,
          1,
          3,
          1,
          3,
          4,
          1,
          3,
          3,
          3,
          1,
          3,
          4,
          0,
          0,
          0,
          -1,
          2,
          2,
          1,
          1,
          3,
          3,
          1,
          2,
          1,
          -1,
          -1,
          4,
          4,
          3,
          1,
          -1,
          1,
          1,
          1,
          1,
          3,
          0,
          1,
          1,
          0,
          1,
          0,
          1,
          1,
          1,
          0,
          0,
          3,
          1,
          1,
          3,
          1,
          3,
          4,
          1,
          3,
          3,
          3,
          1,
          3,
          4,
          0,
          0,
          0,
          -1,
          2,
          2,
          1,
          1,
          3,
          3,
          1,
          2,
          1,
          -1,
          -1,
          4,
          4,
          3,
          1,
          -1,
          1,
          1,
          1,
          1
         ],
         "xaxis": "x",
         "y": [
          1,
          0,
          0,
          0,
          1,
          2,
          -1,
          2,
          0,
          4,
          0,
          0,
          -1,
          1,
          1,
          0,
          2,
          0,
          1,
          0,
          1,
          2,
          2,
          0,
          0,
          1,
          -1,
          0,
          0,
          1,
          0,
          2,
          0,
          3,
          1,
          1,
          3,
          2,
          3,
          2,
          2,
          2,
          4,
          1,
          1,
          0,
          1,
          -1,
          2,
          2,
          1,
          0,
          0,
          0,
          1,
          2,
          -1,
          2,
          0,
          4,
          0,
          0,
          -1,
          1,
          1,
          0,
          2,
          0,
          1,
          0,
          1,
          2,
          2,
          0,
          0,
          1,
          -1,
          0,
          0,
          1,
          0,
          2,
          0,
          3,
          1,
          1,
          3,
          2,
          3,
          2,
          2,
          2,
          4,
          1,
          1,
          0,
          1,
          -1,
          2,
          2,
          1,
          0,
          0,
          0,
          1,
          2,
          -1,
          2,
          0,
          4,
          0,
          0,
          -1,
          1,
          1,
          0,
          2,
          0,
          1,
          0,
          1,
          2,
          2,
          0,
          0,
          1,
          -1,
          0,
          0,
          1,
          0,
          2,
          0,
          3,
          1,
          1,
          3,
          2,
          3,
          2,
          2,
          2,
          4,
          1,
          1,
          0,
          1,
          -1,
          2,
          2,
          1,
          0,
          0,
          0,
          1,
          2,
          -1,
          2,
          0,
          4,
          0,
          0,
          -1,
          1,
          1,
          0,
          2,
          0,
          1,
          0,
          1,
          2,
          2,
          0,
          0,
          1,
          -1,
          0,
          0,
          1,
          0,
          2,
          0,
          3,
          1,
          1,
          3,
          2,
          3,
          2,
          2,
          2,
          4,
          1,
          1,
          0,
          1,
          -1,
          2,
          2,
          1,
          0,
          0,
          0,
          1,
          2,
          -1,
          2,
          0,
          4,
          0,
          0,
          -1,
          1,
          1,
          0,
          2,
          0,
          1,
          0,
          1,
          2,
          2,
          0,
          0,
          1,
          -1,
          0,
          0,
          1,
          0,
          2,
          0,
          3,
          1,
          1,
          3,
          2,
          3,
          2,
          2,
          2,
          4,
          1,
          1,
          0,
          1,
          -1,
          2,
          2,
          1,
          0,
          0,
          0,
          1,
          2,
          -1,
          2,
          0,
          4,
          0,
          0,
          -1,
          1,
          1,
          0,
          2,
          0,
          1,
          0,
          1,
          2,
          2,
          0,
          0,
          1,
          -1,
          0,
          0,
          1,
          0,
          2,
          0,
          3,
          1,
          1,
          3,
          2,
          3,
          2,
          2,
          2,
          4,
          1,
          1,
          0,
          1,
          -1,
          2,
          2,
          1,
          0,
          0,
          0,
          1,
          2,
          -1,
          2,
          0,
          4,
          0,
          0,
          -1,
          1,
          1,
          0,
          2,
          0,
          1,
          0,
          1,
          2,
          2,
          0,
          0,
          1,
          -1,
          0,
          0,
          1,
          0,
          2,
          0,
          3,
          1,
          1,
          3,
          2,
          3,
          2,
          2,
          2,
          4,
          1,
          1,
          0,
          1,
          -1,
          2,
          2,
          1,
          0,
          0,
          0,
          1,
          2,
          -1,
          2,
          0,
          4,
          0,
          0,
          -1,
          1,
          1,
          0,
          2,
          0,
          1,
          0,
          1,
          2,
          2,
          0,
          0,
          1,
          -1,
          0,
          0,
          1,
          0,
          2,
          0,
          3,
          1,
          1,
          3,
          2,
          3,
          2,
          2,
          2,
          4,
          1,
          1,
          0,
          1,
          -1,
          2,
          2
         ],
         "yaxis": "y"
        },
        {
         "marker": {
          "color": "red",
          "size": 10,
          "symbol": "diamond"
         },
         "mode": "markers",
         "name": "Centroids",
         "type": "scatter",
         "x": [
          0.6249999999999989,
          0.4705882352941163,
          3.117647058823529
         ],
         "y": [
          2.0625,
          -0.05882352941176472,
          1.0588235294117647
         ]
        }
       ],
       "layout": {
        "coloraxis": {
         "colorbar": {
          "title": {
           "text": "color"
          }
         },
         "colorscale": [
          [
           0,
           "#0d0887"
          ],
          [
           0.1111111111111111,
           "#46039f"
          ],
          [
           0.2222222222222222,
           "#7201a8"
          ],
          [
           0.3333333333333333,
           "#9c179e"
          ],
          [
           0.4444444444444444,
           "#bd3786"
          ],
          [
           0.5555555555555556,
           "#d8576b"
          ],
          [
           0.6666666666666666,
           "#ed7953"
          ],
          [
           0.7777777777777778,
           "#fb9f3a"
          ],
          [
           0.8888888888888888,
           "#fdca26"
          ],
          [
           1,
           "#f0f921"
          ]
         ]
        },
        "legend": {
         "tracegroupgap": 0
        },
        "template": {
         "data": {
          "bar": [
           {
            "error_x": {
             "color": "#2a3f5f"
            },
            "error_y": {
             "color": "#2a3f5f"
            },
            "marker": {
             "line": {
              "color": "white",
              "width": 0.5
             },
             "pattern": {
              "fillmode": "overlay",
              "size": 10,
              "solidity": 0.2
             }
            },
            "type": "bar"
           }
          ],
          "barpolar": [
           {
            "marker": {
             "line": {
              "color": "white",
              "width": 0.5
             },
             "pattern": {
              "fillmode": "overlay",
              "size": 10,
              "solidity": 0.2
             }
            },
            "type": "barpolar"
           }
          ],
          "carpet": [
           {
            "aaxis": {
             "endlinecolor": "#2a3f5f",
             "gridcolor": "#C8D4E3",
             "linecolor": "#C8D4E3",
             "minorgridcolor": "#C8D4E3",
             "startlinecolor": "#2a3f5f"
            },
            "baxis": {
             "endlinecolor": "#2a3f5f",
             "gridcolor": "#C8D4E3",
             "linecolor": "#C8D4E3",
             "minorgridcolor": "#C8D4E3",
             "startlinecolor": "#2a3f5f"
            },
            "type": "carpet"
           }
          ],
          "choropleth": [
           {
            "colorbar": {
             "outlinewidth": 0,
             "ticks": ""
            },
            "type": "choropleth"
           }
          ],
          "contour": [
           {
            "colorbar": {
             "outlinewidth": 0,
             "ticks": ""
            },
            "colorscale": [
             [
              0,
              "#0d0887"
             ],
             [
              0.1111111111111111,
              "#46039f"
             ],
             [
              0.2222222222222222,
              "#7201a8"
             ],
             [
              0.3333333333333333,
              "#9c179e"
             ],
             [
              0.4444444444444444,
              "#bd3786"
             ],
             [
              0.5555555555555556,
              "#d8576b"
             ],
             [
              0.6666666666666666,
              "#ed7953"
             ],
             [
              0.7777777777777778,
              "#fb9f3a"
             ],
             [
              0.8888888888888888,
              "#fdca26"
             ],
             [
              1,
              "#f0f921"
             ]
            ],
            "type": "contour"
           }
          ],
          "contourcarpet": [
           {
            "colorbar": {
             "outlinewidth": 0,
             "ticks": ""
            },
            "type": "contourcarpet"
           }
          ],
          "heatmap": [
           {
            "colorbar": {
             "outlinewidth": 0,
             "ticks": ""
            },
            "colorscale": [
             [
              0,
              "#0d0887"
             ],
             [
              0.1111111111111111,
              "#46039f"
             ],
             [
              0.2222222222222222,
              "#7201a8"
             ],
             [
              0.3333333333333333,
              "#9c179e"
             ],
             [
              0.4444444444444444,
              "#bd3786"
             ],
             [
              0.5555555555555556,
              "#d8576b"
             ],
             [
              0.6666666666666666,
              "#ed7953"
             ],
             [
              0.7777777777777778,
              "#fb9f3a"
             ],
             [
              0.8888888888888888,
              "#fdca26"
             ],
             [
              1,
              "#f0f921"
             ]
            ],
            "type": "heatmap"
           }
          ],
          "heatmapgl": [
           {
            "colorbar": {
             "outlinewidth": 0,
             "ticks": ""
            },
            "colorscale": [
             [
              0,
              "#0d0887"
             ],
             [
              0.1111111111111111,
              "#46039f"
             ],
             [
              0.2222222222222222,
              "#7201a8"
             ],
             [
              0.3333333333333333,
              "#9c179e"
             ],
             [
              0.4444444444444444,
              "#bd3786"
             ],
             [
              0.5555555555555556,
              "#d8576b"
             ],
             [
              0.6666666666666666,
              "#ed7953"
             ],
             [
              0.7777777777777778,
              "#fb9f3a"
             ],
             [
              0.8888888888888888,
              "#fdca26"
             ],
             [
              1,
              "#f0f921"
             ]
            ],
            "type": "heatmapgl"
           }
          ],
          "histogram": [
           {
            "marker": {
             "pattern": {
              "fillmode": "overlay",
              "size": 10,
              "solidity": 0.2
             }
            },
            "type": "histogram"
           }
          ],
          "histogram2d": [
           {
            "colorbar": {
             "outlinewidth": 0,
             "ticks": ""
            },
            "colorscale": [
             [
              0,
              "#0d0887"
             ],
             [
              0.1111111111111111,
              "#46039f"
             ],
             [
              0.2222222222222222,
              "#7201a8"
             ],
             [
              0.3333333333333333,
              "#9c179e"
             ],
             [
              0.4444444444444444,
              "#bd3786"
             ],
             [
              0.5555555555555556,
              "#d8576b"
             ],
             [
              0.6666666666666666,
              "#ed7953"
             ],
             [
              0.7777777777777778,
              "#fb9f3a"
             ],
             [
              0.8888888888888888,
              "#fdca26"
             ],
             [
              1,
              "#f0f921"
             ]
            ],
            "type": "histogram2d"
           }
          ],
          "histogram2dcontour": [
           {
            "colorbar": {
             "outlinewidth": 0,
             "ticks": ""
            },
            "colorscale": [
             [
              0,
              "#0d0887"
             ],
             [
              0.1111111111111111,
              "#46039f"
             ],
             [
              0.2222222222222222,
              "#7201a8"
             ],
             [
              0.3333333333333333,
              "#9c179e"
             ],
             [
              0.4444444444444444,
              "#bd3786"
             ],
             [
              0.5555555555555556,
              "#d8576b"
             ],
             [
              0.6666666666666666,
              "#ed7953"
             ],
             [
              0.7777777777777778,
              "#fb9f3a"
             ],
             [
              0.8888888888888888,
              "#fdca26"
             ],
             [
              1,
              "#f0f921"
             ]
            ],
            "type": "histogram2dcontour"
           }
          ],
          "mesh3d": [
           {
            "colorbar": {
             "outlinewidth": 0,
             "ticks": ""
            },
            "type": "mesh3d"
           }
          ],
          "parcoords": [
           {
            "line": {
             "colorbar": {
              "outlinewidth": 0,
              "ticks": ""
             }
            },
            "type": "parcoords"
           }
          ],
          "pie": [
           {
            "automargin": true,
            "type": "pie"
           }
          ],
          "scatter": [
           {
            "fillpattern": {
             "fillmode": "overlay",
             "size": 10,
             "solidity": 0.2
            },
            "type": "scatter"
           }
          ],
          "scatter3d": [
           {
            "line": {
             "colorbar": {
              "outlinewidth": 0,
              "ticks": ""
             }
            },
            "marker": {
             "colorbar": {
              "outlinewidth": 0,
              "ticks": ""
             }
            },
            "type": "scatter3d"
           }
          ],
          "scattercarpet": [
           {
            "marker": {
             "colorbar": {
              "outlinewidth": 0,
              "ticks": ""
             }
            },
            "type": "scattercarpet"
           }
          ],
          "scattergeo": [
           {
            "marker": {
             "colorbar": {
              "outlinewidth": 0,
              "ticks": ""
             }
            },
            "type": "scattergeo"
           }
          ],
          "scattergl": [
           {
            "marker": {
             "colorbar": {
              "outlinewidth": 0,
              "ticks": ""
             }
            },
            "type": "scattergl"
           }
          ],
          "scattermapbox": [
           {
            "marker": {
             "colorbar": {
              "outlinewidth": 0,
              "ticks": ""
             }
            },
            "type": "scattermapbox"
           }
          ],
          "scatterpolar": [
           {
            "marker": {
             "colorbar": {
              "outlinewidth": 0,
              "ticks": ""
             }
            },
            "type": "scatterpolar"
           }
          ],
          "scatterpolargl": [
           {
            "marker": {
             "colorbar": {
              "outlinewidth": 0,
              "ticks": ""
             }
            },
            "type": "scatterpolargl"
           }
          ],
          "scatterternary": [
           {
            "marker": {
             "colorbar": {
              "outlinewidth": 0,
              "ticks": ""
             }
            },
            "type": "scatterternary"
           }
          ],
          "surface": [
           {
            "colorbar": {
             "outlinewidth": 0,
             "ticks": ""
            },
            "colorscale": [
             [
              0,
              "#0d0887"
             ],
             [
              0.1111111111111111,
              "#46039f"
             ],
             [
              0.2222222222222222,
              "#7201a8"
             ],
             [
              0.3333333333333333,
              "#9c179e"
             ],
             [
              0.4444444444444444,
              "#bd3786"
             ],
             [
              0.5555555555555556,
              "#d8576b"
             ],
             [
              0.6666666666666666,
              "#ed7953"
             ],
             [
              0.7777777777777778,
              "#fb9f3a"
             ],
             [
              0.8888888888888888,
              "#fdca26"
             ],
             [
              1,
              "#f0f921"
             ]
            ],
            "type": "surface"
           }
          ],
          "table": [
           {
            "cells": {
             "fill": {
              "color": "#EBF0F8"
             },
             "line": {
              "color": "white"
             }
            },
            "header": {
             "fill": {
              "color": "#C8D4E3"
             },
             "line": {
              "color": "white"
             }
            },
            "type": "table"
           }
          ]
         },
         "layout": {
          "annotationdefaults": {
           "arrowcolor": "#2a3f5f",
           "arrowhead": 0,
           "arrowwidth": 1
          },
          "autotypenumbers": "strict",
          "coloraxis": {
           "colorbar": {
            "outlinewidth": 0,
            "ticks": ""
           }
          },
          "colorscale": {
           "diverging": [
            [
             0,
             "#8e0152"
            ],
            [
             0.1,
             "#c51b7d"
            ],
            [
             0.2,
             "#de77ae"
            ],
            [
             0.3,
             "#f1b6da"
            ],
            [
             0.4,
             "#fde0ef"
            ],
            [
             0.5,
             "#f7f7f7"
            ],
            [
             0.6,
             "#e6f5d0"
            ],
            [
             0.7,
             "#b8e186"
            ],
            [
             0.8,
             "#7fbc41"
            ],
            [
             0.9,
             "#4d9221"
            ],
            [
             1,
             "#276419"
            ]
           ],
           "sequential": [
            [
             0,
             "#0d0887"
            ],
            [
             0.1111111111111111,
             "#46039f"
            ],
            [
             0.2222222222222222,
             "#7201a8"
            ],
            [
             0.3333333333333333,
             "#9c179e"
            ],
            [
             0.4444444444444444,
             "#bd3786"
            ],
            [
             0.5555555555555556,
             "#d8576b"
            ],
            [
             0.6666666666666666,
             "#ed7953"
            ],
            [
             0.7777777777777778,
             "#fb9f3a"
            ],
            [
             0.8888888888888888,
             "#fdca26"
            ],
            [
             1,
             "#f0f921"
            ]
           ],
           "sequentialminus": [
            [
             0,
             "#0d0887"
            ],
            [
             0.1111111111111111,
             "#46039f"
            ],
            [
             0.2222222222222222,
             "#7201a8"
            ],
            [
             0.3333333333333333,
             "#9c179e"
            ],
            [
             0.4444444444444444,
             "#bd3786"
            ],
            [
             0.5555555555555556,
             "#d8576b"
            ],
            [
             0.6666666666666666,
             "#ed7953"
            ],
            [
             0.7777777777777778,
             "#fb9f3a"
            ],
            [
             0.8888888888888888,
             "#fdca26"
            ],
            [
             1,
             "#f0f921"
            ]
           ]
          },
          "colorway": [
           "#636efa",
           "#EF553B",
           "#00cc96",
           "#ab63fa",
           "#FFA15A",
           "#19d3f3",
           "#FF6692",
           "#B6E880",
           "#FF97FF",
           "#FECB52"
          ],
          "font": {
           "color": "#2a3f5f"
          },
          "geo": {
           "bgcolor": "white",
           "lakecolor": "white",
           "landcolor": "white",
           "showlakes": true,
           "showland": true,
           "subunitcolor": "#C8D4E3"
          },
          "hoverlabel": {
           "align": "left"
          },
          "hovermode": "closest",
          "mapbox": {
           "style": "light"
          },
          "paper_bgcolor": "white",
          "plot_bgcolor": "white",
          "polar": {
           "angularaxis": {
            "gridcolor": "#EBF0F8",
            "linecolor": "#EBF0F8",
            "ticks": ""
           },
           "bgcolor": "white",
           "radialaxis": {
            "gridcolor": "#EBF0F8",
            "linecolor": "#EBF0F8",
            "ticks": ""
           }
          },
          "scene": {
           "xaxis": {
            "backgroundcolor": "white",
            "gridcolor": "#DFE8F3",
            "gridwidth": 2,
            "linecolor": "#EBF0F8",
            "showbackground": true,
            "ticks": "",
            "zerolinecolor": "#EBF0F8"
           },
           "yaxis": {
            "backgroundcolor": "white",
            "gridcolor": "#DFE8F3",
            "gridwidth": 2,
            "linecolor": "#EBF0F8",
            "showbackground": true,
            "ticks": "",
            "zerolinecolor": "#EBF0F8"
           },
           "zaxis": {
            "backgroundcolor": "white",
            "gridcolor": "#DFE8F3",
            "gridwidth": 2,
            "linecolor": "#EBF0F8",
            "showbackground": true,
            "ticks": "",
            "zerolinecolor": "#EBF0F8"
           }
          },
          "shapedefaults": {
           "line": {
            "color": "#2a3f5f"
           }
          },
          "ternary": {
           "aaxis": {
            "gridcolor": "#DFE8F3",
            "linecolor": "#A2B1C6",
            "ticks": ""
           },
           "baxis": {
            "gridcolor": "#DFE8F3",
            "linecolor": "#A2B1C6",
            "ticks": ""
           },
           "bgcolor": "white",
           "caxis": {
            "gridcolor": "#DFE8F3",
            "linecolor": "#A2B1C6",
            "ticks": ""
           }
          },
          "title": {
           "x": 0.05
          },
          "xaxis": {
           "automargin": true,
           "gridcolor": "#EBF0F8",
           "linecolor": "#EBF0F8",
           "ticks": "",
           "title": {
            "standoff": 15
           },
           "zerolinecolor": "#EBF0F8",
           "zerolinewidth": 2
          },
          "yaxis": {
           "automargin": true,
           "gridcolor": "#EBF0F8",
           "linecolor": "#EBF0F8",
           "ticks": "",
           "title": {
            "standoff": 15
           },
           "zerolinecolor": "#EBF0F8",
           "zerolinewidth": 2
          }
         }
        },
        "title": {
         "text": "K-Means Clustering with Centroids"
        },
        "xaxis": {
         "anchor": "y",
         "domain": [
          0,
          1
         ],
         "title": {
          "text": "PCA Feature 1"
         }
        },
        "yaxis": {
         "anchor": "x",
         "domain": [
          0,
          1
         ],
         "title": {
          "text": "PCA Feature 2"
         }
        }
       }
      }
     },
     "metadata": {},
     "output_type": "display_data"
    }
   ],
   "source": [
    "# Image will be displayed in the readme file as well\n",
    "import plotly.express as px\n",
    "\n",
    "# Scatter plot of data points\n",
    "fig = px.scatter(x=encoded_data.iloc[:, 0], y=encoded_data.iloc[:, 1], color=cluster_labels, opacity=0.5, labels={'x': 'PCA Feature 1', 'y': 'PCA Feature 2'}, title='K-Means Clustering with Centroids', template='plotly_white')\n",
    "\n",
    "# Scatter plot of centroids\n",
    "fig.add_scatter(x=kmeans.cluster_centers_[:, 0], y=kmeans.cluster_centers_[:, 1], mode='markers', marker=dict(symbol='diamond', size=10, color='red'), name='Centroids')\n",
    "\n",
    "fig.show()"
   ]
  },
  {
   "cell_type": "code",
   "execution_count": null,
   "metadata": {},
   "outputs": [],
   "source": []
  }
 ],
 "metadata": {
  "kernelspec": {
   "display_name": "Python 3",
   "language": "python",
   "name": "python3"
  },
  "language_info": {
   "codemirror_mode": {
    "name": "ipython",
    "version": 3
   },
   "file_extension": ".py",
   "mimetype": "text/x-python",
   "name": "python",
   "nbconvert_exporter": "python",
   "pygments_lexer": "ipython3",
   "version": "3.10.0"
  }
 },
 "nbformat": 4,
 "nbformat_minor": 2
}
