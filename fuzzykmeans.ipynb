{
 "cells": [
  {
   "cell_type": "code",
   "execution_count": 3,
   "metadata": {},
   "outputs": [
    {
     "name": "stdout",
     "output_type": "stream",
     "text": [
      "Collecting scikit-fuzzyNote: you may need to restart the kernel to use updated packages.\n"
     ]
    },
    {
     "name": "stderr",
     "output_type": "stream",
     "text": [
      "\n",
      "[notice] A new release of pip is available: 23.3.2 -> 24.0\n",
      "[notice] To update, run: python.exe -m pip install --upgrade pip\n"
     ]
    },
    {
     "name": "stdout",
     "output_type": "stream",
     "text": [
      "\n",
      "  Downloading scikit-fuzzy-0.4.2.tar.gz (993 kB)\n",
      "     ---------------------------------------- 0.0/994.0 kB ? eta -:--:--\n",
      "     - ------------------------------------- 41.0/994.0 kB 1.9 MB/s eta 0:00:01\n",
      "     - ------------------------------------- 41.0/994.0 kB 1.9 MB/s eta 0:00:01\n",
      "     -- ---------------------------------- 71.7/994.0 kB 653.6 kB/s eta 0:00:02\n",
      "     --- --------------------------------- 92.2/994.0 kB 655.4 kB/s eta 0:00:02\n",
      "     ----- ------------------------------ 143.4/994.0 kB 655.8 kB/s eta 0:00:02\n",
      "     ------ ----------------------------- 174.1/994.0 kB 615.9 kB/s eta 0:00:02\n",
      "     ------ ----------------------------- 174.1/994.0 kB 615.9 kB/s eta 0:00:02\n",
      "     ------- ---------------------------- 194.6/994.0 kB 535.8 kB/s eta 0:00:02\n",
      "     ------- ---------------------------- 204.8/994.0 kB 479.2 kB/s eta 0:00:02\n",
      "     --------- -------------------------- 256.0/994.0 kB 561.1 kB/s eta 0:00:02\n",
      "     ---------- ------------------------- 286.7/994.0 kB 553.0 kB/s eta 0:00:02\n",
      "     ------------ ----------------------- 337.9/994.0 kB 617.1 kB/s eta 0:00:02\n",
      "     ------------- ---------------------- 368.6/994.0 kB 603.4 kB/s eta 0:00:02\n",
      "     --------------- -------------------- 419.8/994.0 kB 639.0 kB/s eta 0:00:01\n",
      "     ---------------- ------------------- 450.6/994.0 kB 626.3 kB/s eta 0:00:01\n",
      "     ----------------- ------------------ 481.3/994.0 kB 640.9 kB/s eta 0:00:01\n",
      "     ------------------- ---------------- 532.5/994.0 kB 655.3 kB/s eta 0:00:01\n",
      "     --------------------- -------------- 604.2/994.0 kB 717.3 kB/s eta 0:00:01\n",
      "     ---------------------- ------------- 614.4/994.0 kB 715.8 kB/s eta 0:00:01\n",
      "     ------------------------ ----------- 665.6/994.0 kB 710.8 kB/s eta 0:00:01\n",
      "     ------------------------ ----------- 686.1/994.0 kB 686.1 kB/s eta 0:00:01\n",
      "     ------------------------- ---------- 716.8/994.0 kB 695.4 kB/s eta 0:00:01\n",
      "     --------------------------- -------- 768.0/994.0 kB 702.9 kB/s eta 0:00:01\n",
      "     ---------------------------- ------- 798.7/994.0 kB 700.9 kB/s eta 0:00:01\n",
      "     ------------------------------ ----- 829.4/994.0 kB 708.6 kB/s eta 0:00:01\n",
      "     ------------------------------- ---- 860.2/994.0 kB 715.4 kB/s eta 0:00:01\n",
      "     ------------------------------- ---- 880.6/994.0 kB 704.8 kB/s eta 0:00:01\n",
      "     --------------------------------- -- 911.4/994.0 kB 694.8 kB/s eta 0:00:01\n",
      "     --------------------------------- -- 931.8/994.0 kB 685.7 kB/s eta 0:00:01\n",
      "     ---------------------------------- - 942.1/994.0 kB 677.7 kB/s eta 0:00:01\n",
      "     -----------------------------------  972.8/994.0 kB 669.4 kB/s eta 0:00:01\n",
      "     ------------------------------------ 994.0/994.0 kB 655.8 kB/s eta 0:00:00\n",
      "  Preparing metadata (setup.py): started\n",
      "  Preparing metadata (setup.py): finished with status 'done'\n",
      "Requirement already satisfied: numpy>=1.6.0 in c:\\users\\owner\\appdata\\local\\programs\\python\\python310\\lib\\site-packages (from scikit-fuzzy) (1.25.2)\n",
      "Requirement already satisfied: scipy>=0.9.0 in c:\\users\\owner\\appdata\\local\\programs\\python\\python310\\lib\\site-packages (from scikit-fuzzy) (1.11.2)\n",
      "Requirement already satisfied: networkx>=1.9.0 in c:\\users\\owner\\appdata\\local\\programs\\python\\python310\\lib\\site-packages (from scikit-fuzzy) (3.2.1)\n",
      "Building wheels for collected packages: scikit-fuzzy\n",
      "  Building wheel for scikit-fuzzy (setup.py): started\n",
      "  Building wheel for scikit-fuzzy (setup.py): finished with status 'done'\n",
      "  Created wheel for scikit-fuzzy: filename=scikit_fuzzy-0.4.2-py3-none-any.whl size=894085 sha256=38b949a17f36d1e6c875f4dbab67ed4448e842760eff9be7350f8693a2467aec\n",
      "  Stored in directory: c:\\users\\owner\\appdata\\local\\pip\\cache\\wheels\\4f\\86\\1b\\dfd97134a2c8313e519bcebd95d3fedc7be7944db022094bc8\n",
      "Successfully built scikit-fuzzy\n",
      "Installing collected packages: scikit-fuzzy\n",
      "Successfully installed scikit-fuzzy-0.4.2\n"
     ]
    }
   ],
   "source": [
    "pip install scikit-fuzzy"
   ]
  },
  {
   "cell_type": "code",
   "execution_count": 2,
   "metadata": {},
   "outputs": [],
   "source": [
    "import pandas as pd\n",
    "import numpy as np\n",
    "import skfuzzy as fuzz\n",
    "import matplotlib.pyplot as plt"
   ]
  },
  {
   "cell_type": "code",
   "execution_count": 5,
   "metadata": {},
   "outputs": [
    {
     "ename": "ValueError",
     "evalue": "Unsupported dtype object",
     "output_type": "error",
     "traceback": [
      "\u001b[1;31m---------------------------------------------------------------------------\u001b[0m",
      "\u001b[1;31mValueError\u001b[0m                                Traceback (most recent call last)",
      "Cell \u001b[1;32mIn[5], line 7\u001b[0m\n\u001b[0;32m      4\u001b[0m c \u001b[38;5;241m=\u001b[39m \u001b[38;5;241m5\u001b[39m\n\u001b[0;32m      6\u001b[0m \u001b[38;5;66;03m# Apply fuzzy c-means\u001b[39;00m\n\u001b[1;32m----> 7\u001b[0m cntr, u, u0, d, jm, p, fpc \u001b[38;5;241m=\u001b[39m \u001b[43mfuzz\u001b[49m\u001b[38;5;241;43m.\u001b[39;49m\u001b[43mcluster\u001b[49m\u001b[38;5;241;43m.\u001b[39;49m\u001b[43mcmeans\u001b[49m\u001b[43m \u001b[49m\u001b[43m(\u001b[49m\u001b[43mdf\u001b[49m\u001b[38;5;241;43m.\u001b[39;49m\u001b[43mT\u001b[49m\u001b[43m,\u001b[49m\u001b[43m \u001b[49m\u001b[43mc\u001b[49m\u001b[43m,\u001b[49m\u001b[43m \u001b[49m\u001b[38;5;241;43m2\u001b[39;49m\u001b[43m,\u001b[49m\u001b[43m \u001b[49m\u001b[43merror\u001b[49m\u001b[38;5;241;43m=\u001b[39;49m\u001b[38;5;241;43m0.005\u001b[39;49m\u001b[43m,\u001b[49m\u001b[43m \u001b[49m\u001b[43mmaxiter\u001b[49m\u001b[38;5;241;43m=\u001b[39;49m\u001b[38;5;241;43m1000\u001b[39;49m\u001b[43m,\u001b[49m\u001b[43m \u001b[49m\u001b[43minit\u001b[49m\u001b[38;5;241;43m=\u001b[39;49m\u001b[38;5;28;43;01mNone\u001b[39;49;00m\u001b[43m)\u001b[49m\n\u001b[0;32m      9\u001b[0m \u001b[38;5;66;03m# Get the hard clustering for visualization\u001b[39;00m\n\u001b[0;32m     10\u001b[0m cluster_labels \u001b[38;5;241m=\u001b[39m np\u001b[38;5;241m.\u001b[39margmax(u, axis\u001b[38;5;241m=\u001b[39m\u001b[38;5;241m0\u001b[39m)\n",
      "File \u001b[1;32mc:\\Users\\Owner\\AppData\\Local\\Programs\\Python\\Python310\\lib\\site-packages\\skfuzzy\\cluster\\_cmeans.py:170\u001b[0m, in \u001b[0;36mcmeans\u001b[1;34m(data, c, m, error, maxiter, metric, init, seed)\u001b[0m\n\u001b[0;32m    168\u001b[0m \u001b[38;5;28;01mwhile\u001b[39;00m p \u001b[38;5;241m<\u001b[39m maxiter \u001b[38;5;241m-\u001b[39m \u001b[38;5;241m1\u001b[39m:\n\u001b[0;32m    169\u001b[0m     u2 \u001b[38;5;241m=\u001b[39m u\u001b[38;5;241m.\u001b[39mcopy()\n\u001b[1;32m--> 170\u001b[0m     [cntr, u, Jjm, d] \u001b[38;5;241m=\u001b[39m \u001b[43m_cmeans0\u001b[49m\u001b[43m(\u001b[49m\u001b[43mdata\u001b[49m\u001b[43m,\u001b[49m\u001b[43m \u001b[49m\u001b[43mu2\u001b[49m\u001b[43m,\u001b[49m\u001b[43m \u001b[49m\u001b[43mc\u001b[49m\u001b[43m,\u001b[49m\u001b[43m \u001b[49m\u001b[43mm\u001b[49m\u001b[43m,\u001b[49m\u001b[43m \u001b[49m\u001b[43mmetric\u001b[49m\u001b[43m)\u001b[49m\n\u001b[0;32m    171\u001b[0m     jm \u001b[38;5;241m=\u001b[39m np\u001b[38;5;241m.\u001b[39mhstack((jm, Jjm))\n\u001b[0;32m    172\u001b[0m     p \u001b[38;5;241m+\u001b[39m\u001b[38;5;241m=\u001b[39m \u001b[38;5;241m1\u001b[39m\n",
      "File \u001b[1;32mc:\\Users\\Owner\\AppData\\Local\\Programs\\Python\\Python310\\lib\\site-packages\\skfuzzy\\cluster\\_cmeans.py:28\u001b[0m, in \u001b[0;36m_cmeans0\u001b[1;34m(data, u_old, c, m, metric)\u001b[0m\n\u001b[0;32m     25\u001b[0m data \u001b[38;5;241m=\u001b[39m data\u001b[38;5;241m.\u001b[39mT\n\u001b[0;32m     26\u001b[0m cntr \u001b[38;5;241m=\u001b[39m um\u001b[38;5;241m.\u001b[39mdot(data) \u001b[38;5;241m/\u001b[39m np\u001b[38;5;241m.\u001b[39matleast_2d(um\u001b[38;5;241m.\u001b[39msum(axis\u001b[38;5;241m=\u001b[39m\u001b[38;5;241m1\u001b[39m))\u001b[38;5;241m.\u001b[39mT\n\u001b[1;32m---> 28\u001b[0m d \u001b[38;5;241m=\u001b[39m \u001b[43m_distance\u001b[49m\u001b[43m(\u001b[49m\u001b[43mdata\u001b[49m\u001b[43m,\u001b[49m\u001b[43m \u001b[49m\u001b[43mcntr\u001b[49m\u001b[43m,\u001b[49m\u001b[43m \u001b[49m\u001b[43mmetric\u001b[49m\u001b[43m)\u001b[49m\n\u001b[0;32m     29\u001b[0m d \u001b[38;5;241m=\u001b[39m np\u001b[38;5;241m.\u001b[39mfmax(d, np\u001b[38;5;241m.\u001b[39mfinfo(np\u001b[38;5;241m.\u001b[39mfloat64)\u001b[38;5;241m.\u001b[39meps)\n\u001b[0;32m     31\u001b[0m jm \u001b[38;5;241m=\u001b[39m (um \u001b[38;5;241m*\u001b[39m d \u001b[38;5;241m*\u001b[39m\u001b[38;5;241m*\u001b[39m \u001b[38;5;241m2\u001b[39m)\u001b[38;5;241m.\u001b[39msum()\n",
      "File \u001b[1;32mc:\\Users\\Owner\\AppData\\Local\\Programs\\Python\\Python310\\lib\\site-packages\\skfuzzy\\cluster\\_cmeans.py:60\u001b[0m, in \u001b[0;36m_distance\u001b[1;34m(data, centers, metric)\u001b[0m\n\u001b[0;32m     38\u001b[0m \u001b[38;5;28;01mdef\u001b[39;00m \u001b[38;5;21m_distance\u001b[39m(data, centers, metric\u001b[38;5;241m=\u001b[39m\u001b[38;5;124m'\u001b[39m\u001b[38;5;124meuclidean\u001b[39m\u001b[38;5;124m'\u001b[39m):\n\u001b[0;32m     39\u001b[0m \u001b[38;5;250m    \u001b[39m\u001b[38;5;124;03m\"\"\"\u001b[39;00m\n\u001b[0;32m     40\u001b[0m \u001b[38;5;124;03m    Euclidean distance from each point to each cluster center.\u001b[39;00m\n\u001b[0;32m     41\u001b[0m \n\u001b[1;32m   (...)\u001b[0m\n\u001b[0;32m     58\u001b[0m \u001b[38;5;124;03m    scipy.spatial.distance.cdist\u001b[39;00m\n\u001b[0;32m     59\u001b[0m \u001b[38;5;124;03m    \"\"\"\u001b[39;00m\n\u001b[1;32m---> 60\u001b[0m     \u001b[38;5;28;01mreturn\u001b[39;00m \u001b[43mcdist\u001b[49m\u001b[43m(\u001b[49m\u001b[43mdata\u001b[49m\u001b[43m,\u001b[49m\u001b[43m \u001b[49m\u001b[43mcenters\u001b[49m\u001b[43m,\u001b[49m\u001b[43m \u001b[49m\u001b[43mmetric\u001b[49m\u001b[38;5;241;43m=\u001b[39;49m\u001b[43mmetric\u001b[49m\u001b[43m)\u001b[49m\u001b[38;5;241m.\u001b[39mT\n",
      "File \u001b[1;32mc:\\Users\\Owner\\AppData\\Local\\Programs\\Python\\Python310\\lib\\site-packages\\scipy\\spatial\\distance.py:3006\u001b[0m, in \u001b[0;36mcdist\u001b[1;34m(XA, XB, metric, out, **kwargs)\u001b[0m\n\u001b[0;32m   3004\u001b[0m     cdist_fn \u001b[38;5;241m=\u001b[39m metric_info\u001b[38;5;241m.\u001b[39mcdist_func\n\u001b[0;32m   3005\u001b[0m     _extra_windows_error_checks(XA, out, (mA, mB), \u001b[38;5;241m*\u001b[39m\u001b[38;5;241m*\u001b[39mkwargs)\n\u001b[1;32m-> 3006\u001b[0m     \u001b[38;5;28;01mreturn\u001b[39;00m cdist_fn(XA, XB, out\u001b[38;5;241m=\u001b[39mout, \u001b[38;5;241m*\u001b[39m\u001b[38;5;241m*\u001b[39mkwargs)\n\u001b[0;32m   3007\u001b[0m \u001b[38;5;28;01melif\u001b[39;00m mstr\u001b[38;5;241m.\u001b[39mstartswith(\u001b[38;5;124m\"\u001b[39m\u001b[38;5;124mtest_\u001b[39m\u001b[38;5;124m\"\u001b[39m):\n\u001b[0;32m   3008\u001b[0m     metric_info \u001b[38;5;241m=\u001b[39m _TEST_METRICS\u001b[38;5;241m.\u001b[39mget(mstr, \u001b[38;5;28;01mNone\u001b[39;00m)\n",
      "\u001b[1;31mValueError\u001b[0m: Unsupported dtype object"
     ]
    }
   ],
   "source": [
    "df = pd.read_excel('Datasets/Encoded_Data_for_Model_Training_long.xlsx')\n",
    "\n",
    "df.\n",
    "# Set number of clusters\n",
    "c = 5\n",
    "\n",
    "# Apply fuzzy c-means\n",
    "cntr, u, u0, d, jm, p, fpc = fuzz.cluster.cmeans (df.T, c, 2, error=0.005, maxiter=1000, init=None)\n",
    "\n",
    "# Get the hard clustering for visualization\n",
    "cluster_labels = np.argmax(u, axis=0)\n",
    "\n",
    "# Plot the data and cluster centers\n",
    "plt.scatter(df[:, 0], df[:, 1], c=cluster_labels, cmap='viridis', marker='o')\n",
    "plt.scatter(cntr[:, 0], cntr[:, 1], c='red', marker='x')\n",
    "plt.title('Fuzzy c-means clustering')\n",
    "plt.show()\n",
    "\n",
    "print(\"Centroids:\\n\", cntr)\n",
    "print(\"Membership Matrix:\\n\", u)"
   ]
  },
  {
   "cell_type": "code",
   "execution_count": null,
   "metadata": {},
   "outputs": [],
   "source": []
  }
 ],
 "metadata": {
  "kernelspec": {
   "display_name": "Python 3",
   "language": "python",
   "name": "python3"
  },
  "language_info": {
   "codemirror_mode": {
    "name": "ipython",
    "version": 3
   },
   "file_extension": ".py",
   "mimetype": "text/x-python",
   "name": "python",
   "nbconvert_exporter": "python",
   "pygments_lexer": "ipython3",
   "version": "3.10.0"
  }
 },
 "nbformat": 4,
 "nbformat_minor": 2
}
