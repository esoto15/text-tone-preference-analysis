{
 "cells": [
  {
   "cell_type": "code",
   "execution_count": 2,
   "metadata": {},
   "outputs": [],
   "source": [
    "import pandas as pd "
   ]
  },
  {
   "cell_type": "code",
   "execution_count": 4,
   "metadata": {},
   "outputs": [],
   "source": [
    "df = pd.read_excel('encoded_data.xlsx')"
   ]
  },
  {
   "cell_type": "code",
   "execution_count": 5,
   "metadata": {},
   "outputs": [
    {
     "data": {
      "text/html": [
       "<div>\n",
       "<style scoped>\n",
       "    .dataframe tbody tr th:only-of-type {\n",
       "        vertical-align: middle;\n",
       "    }\n",
       "\n",
       "    .dataframe tbody tr th {\n",
       "        vertical-align: top;\n",
       "    }\n",
       "\n",
       "    .dataframe thead th {\n",
       "        text-align: right;\n",
       "    }\n",
       "</style>\n",
       "<table border=\"1\" class=\"dataframe\">\n",
       "  <thead>\n",
       "    <tr style=\"text-align: right;\">\n",
       "      <th></th>\n",
       "      <th>age</th>\n",
       "      <th>income</th>\n",
       "      <th>gender_male</th>\n",
       "      <th>gender_non binary</th>\n",
       "      <th>ethnicity_non hispanic</th>\n",
       "      <th>race_Mexican</th>\n",
       "      <th>race_Puerto Rican</th>\n",
       "      <th>race_asian</th>\n",
       "      <th>race_black</th>\n",
       "      <th>race_multiracial</th>\n",
       "      <th>...</th>\n",
       "      <th>employment_Self employed</th>\n",
       "      <th>employment_Student</th>\n",
       "      <th>employment_Unemployed</th>\n",
       "      <th>language_english</th>\n",
       "      <th>language_spanish</th>\n",
       "      <th>language_undisclosed</th>\n",
       "      <th>disability_undisclosed</th>\n",
       "      <th>choice_Original</th>\n",
       "      <th>choice_Persuasive</th>\n",
       "      <th>choice_Simplier</th>\n",
       "    </tr>\n",
       "  </thead>\n",
       "  <tbody>\n",
       "    <tr>\n",
       "      <th>0</th>\n",
       "      <td>3</td>\n",
       "      <td>1</td>\n",
       "      <td>False</td>\n",
       "      <td>False</td>\n",
       "      <td>True</td>\n",
       "      <td>False</td>\n",
       "      <td>False</td>\n",
       "      <td>False</td>\n",
       "      <td>False</td>\n",
       "      <td>False</td>\n",
       "      <td>...</td>\n",
       "      <td>False</td>\n",
       "      <td>False</td>\n",
       "      <td>False</td>\n",
       "      <td>False</td>\n",
       "      <td>False</td>\n",
       "      <td>False</td>\n",
       "      <td>False</td>\n",
       "      <td>False</td>\n",
       "      <td>True</td>\n",
       "      <td>False</td>\n",
       "    </tr>\n",
       "    <tr>\n",
       "      <th>1</th>\n",
       "      <td>0</td>\n",
       "      <td>0</td>\n",
       "      <td>True</td>\n",
       "      <td>False</td>\n",
       "      <td>False</td>\n",
       "      <td>False</td>\n",
       "      <td>False</td>\n",
       "      <td>False</td>\n",
       "      <td>False</td>\n",
       "      <td>False</td>\n",
       "      <td>...</td>\n",
       "      <td>False</td>\n",
       "      <td>False</td>\n",
       "      <td>False</td>\n",
       "      <td>True</td>\n",
       "      <td>False</td>\n",
       "      <td>False</td>\n",
       "      <td>False</td>\n",
       "      <td>True</td>\n",
       "      <td>False</td>\n",
       "      <td>False</td>\n",
       "    </tr>\n",
       "  </tbody>\n",
       "</table>\n",
       "<p>2 rows × 36 columns</p>\n",
       "</div>"
      ],
      "text/plain": [
       "   age  income  gender_male  gender_non binary  ethnicity_non hispanic  \\\n",
       "0    3       1        False              False                    True   \n",
       "1    0       0         True              False                   False   \n",
       "\n",
       "   race_Mexican  race_Puerto Rican   race_asian  race_black  race_multiracial  \\\n",
       "0         False               False       False       False             False   \n",
       "1         False               False       False       False             False   \n",
       "\n",
       "   ...  employment_Self employed  employment_Student  employment_Unemployed  \\\n",
       "0  ...                     False               False                  False   \n",
       "1  ...                     False               False                  False   \n",
       "\n",
       "   language_english  language_spanish  language_undisclosed  \\\n",
       "0             False             False                 False   \n",
       "1              True             False                 False   \n",
       "\n",
       "   disability_undisclosed  choice_Original  choice_Persuasive  choice_Simplier  \n",
       "0                   False            False               True            False  \n",
       "1                   False             True              False            False  \n",
       "\n",
       "[2 rows x 36 columns]"
      ]
     },
     "execution_count": 5,
     "metadata": {},
     "output_type": "execute_result"
    }
   ],
   "source": [
    "df.head(2)"
   ]
  },
  {
   "cell_type": "code",
   "execution_count": 30,
   "metadata": {},
   "outputs": [
    {
     "data": {
      "text/plain": [
       "['age',\n",
       " 'income',\n",
       " 'gender_male',\n",
       " 'gender_non binary',\n",
       " 'ethnicity_non hispanic',\n",
       " 'race_Mexican',\n",
       " 'race_Puerto Rican ',\n",
       " 'race_asian',\n",
       " 'race_black',\n",
       " 'race_multiracial',\n",
       " 'race_native american',\n",
       " 'race_undisclosed',\n",
       " 'race_white',\n",
       " 'education_Bachelor',\n",
       " 'education_Doctorate',\n",
       " 'education_High School',\n",
       " 'education_Master',\n",
       " 'education_less than high school',\n",
       " 'education_undisclosed',\n",
       " 'marital_status_married',\n",
       " 'marital_status_separated',\n",
       " 'marital_status_single',\n",
       " 'marital_status_undisclosed',\n",
       " 'marital_status_widowed',\n",
       " 'employment_Employed Part time',\n",
       " 'employment_Retired',\n",
       " 'employment_Self employed',\n",
       " 'employment_Student',\n",
       " 'employment_Unemployed',\n",
       " 'language_english',\n",
       " 'language_spanish',\n",
       " 'language_undisclosed',\n",
       " 'disability_undisclosed',\n",
       " 'choice_Original',\n",
       " 'choice_Persuasive',\n",
       " 'choice_Simplier']"
      ]
     },
     "execution_count": 30,
     "metadata": {},
     "output_type": "execute_result"
    }
   ],
   "source": [
    "df.columns.tolist()"
   ]
  },
  {
   "cell_type": "code",
   "execution_count": 8,
   "metadata": {},
   "outputs": [],
   "source": [
    "import matplotlib.pyplot as plt\n",
    "from scipy.stats import pearsonr"
   ]
  },
  {
   "cell_type": "code",
   "execution_count": 32,
   "metadata": {},
   "outputs": [],
   "source": [
    "age =  df['age']\n",
    "choice = df['choice_Persuasive']"
   ]
  },
  {
   "cell_type": "code",
   "execution_count": 27,
   "metadata": {},
   "outputs": [
    {
     "data": {
      "image/png": "[encoded data removed]",
      "text/plain": [
       "<Figure size 640x480 with 1 Axes>"
      ]
     },
     "metadata": {},
     "output_type": "display_data"
    }
   ],
   "source": [
    "plt.scatter(age, choice)\n",
    "plt.axis('equal')\n",
    "plt.show()"
   ]
  },
  {
   "cell_type": "code",
   "execution_count": 33,
   "metadata": {},
   "outputs": [
    {
     "name": "stdout",
     "output_type": "stream",
     "text": [
      "0.01629420754716923\n"
     ]
    }
   ],
   "source": [
    "correlation, pvalue = pearsonr(age,choice)\n",
    "\n",
    "# Display the correlation\n",
    "print(correlation)"
   ]
  },
  {
   "cell_type": "code",
   "execution_count": null,
   "metadata": {},
   "outputs": [],
   "source": []
  }
 ],
 "metadata": {
  "kernelspec": {
   "display_name": "Python 3",
   "language": "python",
   "name": "python3"
  },
  "language_info": {
   "codemirror_mode": {
    "name": "ipython",
    "version": 3
   },
   "file_extension": ".py",
   "mimetype": "text/x-python",
   "name": "python",
   "nbconvert_exporter": "python",
   "pygments_lexer": "ipython3",
   "version": "3.10.0"
  }
 },
 "nbformat": 4,
 "nbformat_minor": 2
}
