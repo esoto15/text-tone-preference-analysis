{
 "cells": [
  {
   "cell_type": "code",
   "execution_count": 2,
   "id": "917098ab",
   "metadata": {},
   "outputs": [
    {
     "name": "stdout",
     "output_type": "stream",
     "text": [
      "Requirement already satisfied: pandas in c:\\users\\owner\\appdata\\local\\programs\\python\\python310\\lib\\site-packages (2.1.0)\n",
      "Requirement already satisfied: numpy>=1.22.4 in c:\\users\\owner\\appdata\\local\\programs\\python\\python310\\lib\\site-packages (from pandas) (1.25.2)\n",
      "Requirement already satisfied: python-dateutil>=2.8.2 in c:\\users\\owner\\appdata\\roaming\\python\\python310\\site-packages (from pandas) (2.8.2)\n",
      "Requirement already satisfied: pytz>=2020.1 in c:\\users\\owner\\appdata\\local\\programs\\python\\python310\\lib\\site-packages (from pandas) (2023.3.post1)\n",
      "Requirement already satisfied: tzdata>=2022.1 in c:\\users\\owner\\appdata\\local\\programs\\python\\python310\\lib\\site-packages (from pandas) (2023.3)\n",
      "Requirement already satisfied: six>=1.5 in c:\\users\\owner\\appdata\\roaming\\python\\python310\\site-packages (from python-dateutil>=2.8.2->pandas) (1.16.0)\n",
      "Note: you may need to restart the kernel to use updated packages.\n"
     ]
    },
    {
     "name": "stderr",
     "output_type": "stream",
     "text": [
      "\n",
      "[notice] A new release of pip is available: 23.3.2 -> 24.0\n",
      "[notice] To update, run: python.exe -m pip install --upgrade pip\n"
     ]
    }
   ],
   "source": [
    "pip install pandas"
   ]
  },
  {
   "cell_type": "code",
   "execution_count": 3,
   "id": "ff87f398",
   "metadata": {},
   "outputs": [
    {
     "name": "stdout",
     "output_type": "stream",
     "text": [
      "Requirement already satisfied: openpyxl in c:\\users\\owner\\appdata\\local\\programs\\python\\python310\\lib\\site-packages (3.1.2)\n",
      "Requirement already satisfied: et-xmlfile in c:\\users\\owner\\appdata\\local\\programs\\python\\python310\\lib\\site-packages (from openpyxl) (1.1.0)\n",
      "Note: you may need to restart the kernel to use updated packages.\n"
     ]
    },
    {
     "name": "stderr",
     "output_type": "stream",
     "text": [
      "\n",
      "[notice] A new release of pip is available: 23.3.2 -> 24.0\n",
      "[notice] To update, run: python.exe -m pip install --upgrade pip\n"
     ]
    }
   ],
   "source": [
    "pip install openpyxl"
   ]
  },
  {
   "cell_type": "markdown",
   "id": "3199ac8d",
   "metadata": {},
   "source": [
    "# Survey Text Preferences: Exploring Tone Patterns"
   ]
  },
  {
   "cell_type": "code",
   "execution_count": 4,
   "id": "c253ff16",
   "metadata": {},
   "outputs": [],
   "source": [
    "import pandas as pd\n",
    "import re"
   ]
  },
  {
   "cell_type": "code",
   "execution_count": 5,
   "id": "8c40aa98",
   "metadata": {},
   "outputs": [
    {
     "data": {
      "text/html": [
       "<div>\n",
       "<style scoped>\n",
       "    .dataframe tbody tr th:only-of-type {\n",
       "        vertical-align: middle;\n",
       "    }\n",
       "\n",
       "    .dataframe tbody tr th {\n",
       "        vertical-align: top;\n",
       "    }\n",
       "\n",
       "    .dataframe thead th {\n",
       "        text-align: right;\n",
       "    }\n",
       "</style>\n",
       "<table border=\"1\" class=\"dataframe\">\n",
       "  <thead>\n",
       "    <tr style=\"text-align: right;\">\n",
       "      <th></th>\n",
       "      <th>id</th>\n",
       "      <th>age</th>\n",
       "      <th>gender</th>\n",
       "      <th>ethnicity</th>\n",
       "      <th>race</th>\n",
       "      <th>education</th>\n",
       "      <th>marital_status</th>\n",
       "      <th>income</th>\n",
       "      <th>employment</th>\n",
       "      <th>language</th>\n",
       "      <th>...</th>\n",
       "      <th>sample_4</th>\n",
       "      <th>sample_4_text</th>\n",
       "      <th>sample_5</th>\n",
       "      <th>sample_5_text</th>\n",
       "      <th>sample_6</th>\n",
       "      <th>sample_6_text</th>\n",
       "      <th>sample_7</th>\n",
       "      <th>sample_7_text</th>\n",
       "      <th>sample_8</th>\n",
       "      <th>sample_8_text</th>\n",
       "    </tr>\n",
       "  </thead>\n",
       "  <tbody>\n",
       "    <tr>\n",
       "      <th>0</th>\n",
       "      <td>1</td>\n",
       "      <td>45-54</td>\n",
       "      <td>female</td>\n",
       "      <td>hispanic</td>\n",
       "      <td>native american</td>\n",
       "      <td>Bachelor</td>\n",
       "      <td>single</td>\n",
       "      <td>Less than $25,000</td>\n",
       "      <td>Employed Part time</td>\n",
       "      <td>english</td>\n",
       "      <td>...</td>\n",
       "      <td>Simplier</td>\n",
       "      <td>Every Tuesday, Wednesday, and Thursday, people...</td>\n",
       "      <td>Persuasive</td>\n",
       "      <td>Last Friday held a touching moment for East Ha...</td>\n",
       "      <td>Empathetic</td>\n",
       "      <td>It's heart-wrenching to acknowledge that when ...</td>\n",
       "      <td>Simplier</td>\n",
       "      <td>Part of what makes food insecurity so difficul...</td>\n",
       "      <td>Simplier</td>\n",
       "      <td>Tomorrow represents a tough turning point for ...</td>\n",
       "    </tr>\n",
       "    <tr>\n",
       "      <th>1</th>\n",
       "      <td>2</td>\n",
       "      <td>25-34</td>\n",
       "      <td>male</td>\n",
       "      <td>non hispanic</td>\n",
       "      <td>black</td>\n",
       "      <td>Bachelor</td>\n",
       "      <td>widowed</td>\n",
       "      <td>$50,000 - $74,999</td>\n",
       "      <td>Unemployed</td>\n",
       "      <td>spanish</td>\n",
       "      <td>...</td>\n",
       "      <td>Empathetic</td>\n",
       "      <td>In the face of the imminent expiration of cruc...</td>\n",
       "      <td>Empathetic</td>\n",
       "      <td>When women and girls cant access the period an...</td>\n",
       "      <td>Empathetic</td>\n",
       "      <td>Our trucks deliver #freshproduce and shelf-sta...</td>\n",
       "      <td>Persuasive</td>\n",
       "      <td>At the Food Bank For New York City, we underst...</td>\n",
       "      <td>Persuasive</td>\n",
       "      <td>Don't miss this! Last month, Food Bank For New...</td>\n",
       "    </tr>\n",
       "  </tbody>\n",
       "</table>\n",
       "<p>2 rows × 32 columns</p>\n",
       "</div>"
      ],
      "text/plain": [
       "   id    age  gender     ethnicity             race education marital_status  \\\n",
       "0   1  45-54  female      hispanic  native american  Bachelor         single   \n",
       "1   2  25-34    male  non hispanic            black  Bachelor        widowed   \n",
       "\n",
       "              income          employment language  ...    sample_4  \\\n",
       "0  Less than $25,000  Employed Part time  english  ...    Simplier   \n",
       "1  $50,000 - $74,999          Unemployed  spanish  ...  Empathetic   \n",
       "\n",
       "                                       sample_4_text    sample_5  \\\n",
       "0  Every Tuesday, Wednesday, and Thursday, people...  Persuasive   \n",
       "1  In the face of the imminent expiration of cruc...  Empathetic   \n",
       "\n",
       "                                       sample_5_text    sample_6  \\\n",
       "0  Last Friday held a touching moment for East Ha...  Empathetic   \n",
       "1  When women and girls cant access the period an...  Empathetic   \n",
       "\n",
       "                                       sample_6_text    sample_7  \\\n",
       "0  It's heart-wrenching to acknowledge that when ...    Simplier   \n",
       "1  Our trucks deliver #freshproduce and shelf-sta...  Persuasive   \n",
       "\n",
       "                                       sample_7_text    sample_8  \\\n",
       "0  Part of what makes food insecurity so difficul...    Simplier   \n",
       "1  At the Food Bank For New York City, we underst...  Persuasive   \n",
       "\n",
       "                                       sample_8_text  \n",
       "0  Tomorrow represents a tough turning point for ...  \n",
       "1  Don't miss this! Last month, Food Bank For New...  \n",
       "\n",
       "[2 rows x 32 columns]"
      ]
     },
     "execution_count": 5,
     "metadata": {},
     "output_type": "execute_result"
    }
   ],
   "source": [
    "df = pd.read_excel('second dataset.xlsx')\n",
    "df.head(2)"
   ]
  },
  {
   "cell_type": "code",
   "execution_count": 6,
   "id": "8325efd8",
   "metadata": {},
   "outputs": [
    {
     "data": {
      "text/plain": [
       "Index(['id', 'age', 'gender', 'ethnicity', 'race', 'education',\n",
       "       'marital_status', 'income', 'employment', 'language', 'disability',\n",
       "       'states', 'start_time', 'end_time', 'id.1', 'sample_options_id',\n",
       "       'sample_1', 'sample_1_text', 'sample_2', 'sample_2_text', 'sample_3',\n",
       "       'sample_3_text', 'sample_4', 'sample_4_text', 'sample_5',\n",
       "       'sample_5_text', 'sample_6', 'sample_6_text', 'sample_7',\n",
       "       'sample_7_text', 'sample_8', 'sample_8_text'],\n",
       "      dtype='object')"
      ]
     },
     "execution_count": 6,
     "metadata": {},
     "output_type": "execute_result"
    }
   ],
   "source": [
    "df.columns"
   ]
  },
  {
   "cell_type": "code",
   "execution_count": 7,
   "id": "565f93af",
   "metadata": {},
   "outputs": [
    {
     "data": {
      "text/plain": [
       "(35, 32)"
      ]
     },
     "execution_count": 7,
     "metadata": {},
     "output_type": "execute_result"
    }
   ],
   "source": [
    "df.shape"
   ]
  },
  {
   "cell_type": "code",
   "execution_count": 8,
   "id": "1c8d6a16",
   "metadata": {},
   "outputs": [
    {
     "name": "stdout",
     "output_type": "stream",
     "text": [
      "Index(['id', 'age', 'gender', 'ethnicity', 'race', 'education',\n",
      "       'marital_status', 'income', 'employment', 'language', 'disability',\n",
      "       'states', 'start_time', 'end_time', 'id.1', 'sample_options_id',\n",
      "       'sample_1', 'sample_1_text', 'sample_2', 'sample_2_text', 'sample_3',\n",
      "       'sample_3_text', 'sample_4', 'sample_4_text', 'sample_5',\n",
      "       'sample_5_text', 'sample_6', 'sample_6_text', 'sample_7',\n",
      "       'sample_7_text', 'sample_8', 'sample_8_text'],\n",
      "      dtype='object')\n",
      "(35, 32)\n",
      "na value count 0\n"
     ]
    }
   ],
   "source": [
    "print(df.columns)\n",
    "print(df.shape)\n",
    "print('na value count', df.isna().sum().sum())"
   ]
  },
  {
   "cell_type": "code",
   "execution_count": 9,
   "id": "6e958be4",
   "metadata": {},
   "outputs": [
    {
     "name": "stdout",
     "output_type": "stream",
     "text": [
      "id                   0\n",
      "age                  0\n",
      "gender               0\n",
      "ethnicity            0\n",
      "race                 0\n",
      "education            0\n",
      "marital_status       0\n",
      "income               0\n",
      "employment           0\n",
      "language             0\n",
      "disability           0\n",
      "states               0\n",
      "start_time           0\n",
      "end_time             0\n",
      "id.1                 0\n",
      "sample_options_id    0\n",
      "sample_1             0\n",
      "sample_1_text        0\n",
      "sample_2             0\n",
      "sample_2_text        0\n",
      "sample_3             0\n",
      "sample_3_text        0\n",
      "sample_4             0\n",
      "sample_4_text        0\n",
      "sample_5             0\n",
      "sample_5_text        0\n",
      "sample_6             0\n",
      "sample_6_text        0\n",
      "sample_7             0\n",
      "sample_7_text        0\n",
      "sample_8             0\n",
      "sample_8_text        0\n",
      "dtype: int64\n",
      "id                            int64\n",
      "age                          object\n",
      "gender                       object\n",
      "ethnicity                    object\n",
      "race                         object\n",
      "education                    object\n",
      "marital_status               object\n",
      "income                       object\n",
      "employment                   object\n",
      "language                     object\n",
      "disability                   object\n",
      "states                       object\n",
      "start_time           datetime64[ns]\n",
      "end_time             datetime64[ns]\n",
      "id.1                          int64\n",
      "sample_options_id             int64\n",
      "sample_1                     object\n",
      "sample_1_text                object\n",
      "sample_2                     object\n",
      "sample_2_text                object\n",
      "sample_3                     object\n",
      "sample_3_text                object\n",
      "sample_4                     object\n",
      "sample_4_text                object\n",
      "sample_5                     object\n",
      "sample_5_text                object\n",
      "sample_6                     object\n",
      "sample_6_text                object\n",
      "sample_7                     object\n",
      "sample_7_text                object\n",
      "sample_8                     object\n",
      "sample_8_text                object\n",
      "dtype: object\n"
     ]
    }
   ],
   "source": [
    "# Check for NaN values in the entire DataFrame\n",
    "print(df.isna().sum())\n",
    "print(df.dtypes)"
   ]
  },
  {
   "cell_type": "code",
   "execution_count": 10,
   "id": "daf800d5",
   "metadata": {},
   "outputs": [
    {
     "data": {
      "text/html": [
       "<div>\n",
       "<style scoped>\n",
       "    .dataframe tbody tr th:only-of-type {\n",
       "        vertical-align: middle;\n",
       "    }\n",
       "\n",
       "    .dataframe tbody tr th {\n",
       "        vertical-align: top;\n",
       "    }\n",
       "\n",
       "    .dataframe thead th {\n",
       "        text-align: right;\n",
       "    }\n",
       "</style>\n",
       "<table border=\"1\" class=\"dataframe\">\n",
       "  <thead>\n",
       "    <tr style=\"text-align: right;\">\n",
       "      <th></th>\n",
       "      <th>age</th>\n",
       "      <th>gender</th>\n",
       "      <th>ethnicity</th>\n",
       "      <th>education</th>\n",
       "      <th>income</th>\n",
       "      <th>employment</th>\n",
       "      <th>disability</th>\n",
       "      <th>choice</th>\n",
       "    </tr>\n",
       "  </thead>\n",
       "  <tbody>\n",
       "    <tr>\n",
       "      <th>0</th>\n",
       "      <td>45-54</td>\n",
       "      <td>female</td>\n",
       "      <td>hispanic</td>\n",
       "      <td>Bachelor</td>\n",
       "      <td>Less than $25,000</td>\n",
       "      <td>Employed Part time</td>\n",
       "      <td>i do not have a disability</td>\n",
       "      <td>Original</td>\n",
       "    </tr>\n",
       "    <tr>\n",
       "      <th>1</th>\n",
       "      <td>25-34</td>\n",
       "      <td>male</td>\n",
       "      <td>non hispanic</td>\n",
       "      <td>Bachelor</td>\n",
       "      <td>$50,000 - $74,999</td>\n",
       "      <td>Unemployed</td>\n",
       "      <td>i do not have a disability</td>\n",
       "      <td>Simplier</td>\n",
       "    </tr>\n",
       "    <tr>\n",
       "      <th>2</th>\n",
       "      <td>45-54</td>\n",
       "      <td>male</td>\n",
       "      <td>hispanic</td>\n",
       "      <td>less than high school</td>\n",
       "      <td>Less than $25,000</td>\n",
       "      <td>Employed Full time</td>\n",
       "      <td>i do not have a disability</td>\n",
       "      <td>Simplier</td>\n",
       "    </tr>\n",
       "    <tr>\n",
       "      <th>3</th>\n",
       "      <td>55-64</td>\n",
       "      <td>female</td>\n",
       "      <td>non hispanic</td>\n",
       "      <td>Associate</td>\n",
       "      <td>$25,000 - $49,999</td>\n",
       "      <td>Employed Full time</td>\n",
       "      <td>i do not have a disability</td>\n",
       "      <td>Persuasive</td>\n",
       "    </tr>\n",
       "    <tr>\n",
       "      <th>4</th>\n",
       "      <td>25-34</td>\n",
       "      <td>female</td>\n",
       "      <td>hispanic</td>\n",
       "      <td>Associate</td>\n",
       "      <td>Less than $25,000</td>\n",
       "      <td>Employed Full time</td>\n",
       "      <td>i do not have a disability</td>\n",
       "      <td>Empathetic</td>\n",
       "    </tr>\n",
       "    <tr>\n",
       "      <th>5</th>\n",
       "      <td>45-54</td>\n",
       "      <td>female</td>\n",
       "      <td>hispanic</td>\n",
       "      <td>less than high school</td>\n",
       "      <td>$25,000 - $49,999</td>\n",
       "      <td>Employed Full time</td>\n",
       "      <td>i do not have a disability</td>\n",
       "      <td>Simplier</td>\n",
       "    </tr>\n",
       "    <tr>\n",
       "      <th>6</th>\n",
       "      <td>45-54</td>\n",
       "      <td>female</td>\n",
       "      <td>hispanic</td>\n",
       "      <td>Bachelor</td>\n",
       "      <td>$50,000 - $74,999</td>\n",
       "      <td>Employed Full time</td>\n",
       "      <td>i do not have a disability</td>\n",
       "      <td>Simplier</td>\n",
       "    </tr>\n",
       "    <tr>\n",
       "      <th>7</th>\n",
       "      <td>45-54</td>\n",
       "      <td>male</td>\n",
       "      <td>hispanic</td>\n",
       "      <td>Bachelor</td>\n",
       "      <td>$50,000 - $74,999</td>\n",
       "      <td>Employed Full time</td>\n",
       "      <td>i do not have a disability</td>\n",
       "      <td>Simplier</td>\n",
       "    </tr>\n",
       "    <tr>\n",
       "      <th>8</th>\n",
       "      <td>25-34</td>\n",
       "      <td>male</td>\n",
       "      <td>hispanic</td>\n",
       "      <td>less than high school</td>\n",
       "      <td>Less than $25,000</td>\n",
       "      <td>Employed Full time</td>\n",
       "      <td>i do not have a disability</td>\n",
       "      <td>Original</td>\n",
       "    </tr>\n",
       "    <tr>\n",
       "      <th>9</th>\n",
       "      <td>45-54</td>\n",
       "      <td>female</td>\n",
       "      <td>hispanic</td>\n",
       "      <td>High School</td>\n",
       "      <td>Less than $25,000</td>\n",
       "      <td>Employed Part time</td>\n",
       "      <td>i do not have a disability</td>\n",
       "      <td>Persuasive</td>\n",
       "    </tr>\n",
       "    <tr>\n",
       "      <th>10</th>\n",
       "      <td>55-64</td>\n",
       "      <td>female</td>\n",
       "      <td>hispanic</td>\n",
       "      <td>Associate</td>\n",
       "      <td>$25,000 - $49,999</td>\n",
       "      <td>Employed Full time</td>\n",
       "      <td>i do not have a disability</td>\n",
       "      <td>Original</td>\n",
       "    </tr>\n",
       "    <tr>\n",
       "      <th>11</th>\n",
       "      <td>18-24</td>\n",
       "      <td>female</td>\n",
       "      <td>hispanic</td>\n",
       "      <td>less than high school</td>\n",
       "      <td>na</td>\n",
       "      <td>Unemployed</td>\n",
       "      <td>i do not have a disability</td>\n",
       "      <td>Empathetic</td>\n",
       "    </tr>\n",
       "  </tbody>\n",
       "</table>\n",
       "</div>"
      ],
      "text/plain": [
       "      age  gender     ethnicity              education             income  \\\n",
       "0   45-54  female      hispanic               Bachelor  Less than $25,000   \n",
       "1   25-34    male  non hispanic               Bachelor  $50,000 - $74,999   \n",
       "2   45-54    male      hispanic  less than high school  Less than $25,000   \n",
       "3   55-64  female  non hispanic              Associate  $25,000 - $49,999   \n",
       "4   25-34  female      hispanic              Associate  Less than $25,000   \n",
       "5   45-54  female      hispanic  less than high school  $25,000 - $49,999   \n",
       "6   45-54  female      hispanic               Bachelor  $50,000 - $74,999   \n",
       "7   45-54    male      hispanic               Bachelor  $50,000 - $74,999   \n",
       "8   25-34    male      hispanic  less than high school  Less than $25,000   \n",
       "9   45-54  female      hispanic            High School  Less than $25,000   \n",
       "10  55-64  female      hispanic              Associate  $25,000 - $49,999   \n",
       "11  18-24  female      hispanic  less than high school                 na   \n",
       "\n",
       "            employment                  disability      choice  \n",
       "0   Employed Part time  i do not have a disability    Original  \n",
       "1           Unemployed  i do not have a disability    Simplier  \n",
       "2   Employed Full time  i do not have a disability    Simplier  \n",
       "3   Employed Full time  i do not have a disability  Persuasive  \n",
       "4   Employed Full time  i do not have a disability  Empathetic  \n",
       "5   Employed Full time  i do not have a disability    Simplier  \n",
       "6   Employed Full time  i do not have a disability    Simplier  \n",
       "7   Employed Full time  i do not have a disability    Simplier  \n",
       "8   Employed Full time  i do not have a disability    Original  \n",
       "9   Employed Part time  i do not have a disability  Persuasive  \n",
       "10  Employed Full time  i do not have a disability    Original  \n",
       "11          Unemployed  i do not have a disability  Empathetic  "
      ]
     },
     "execution_count": 10,
     "metadata": {},
     "output_type": "execute_result"
    }
   ],
   "source": [
    "melted_data = df.copy()\n",
    "\n",
    "keep_columns = ['age', 'gender', 'ethnicity', 'race', 'education', 'marital_status', 'income', 'employment', 'language', 'disability']\n",
    "\n",
    "melted_data = pd.melt(melted_data, id_vars=keep_columns, value_vars=['sample_1', 'sample_2', 'sample_3', 'sample_4', 'sample_5', 'sample_6', 'sample_7', 'sample_8'],\n",
    "                      var_name='sample_number', value_name='choice')\n",
    "\n",
    "melted_data['sample_number'] = melted_data['sample_number'].str.split('_').str[1].astype(int)\n",
    "\n",
    "sample_numbers = pd.DataFrame({'sample_number': range(1, 9)})\n",
    "\n",
    "final_data = melted_data.merge(sample_numbers, on='sample_number')\n",
    "\n",
    "final_data = final_data.drop('sample_number', axis=1)\n",
    "final_data.drop(['race', 'language', 'marital_status'], axis=1, inplace=True)\n",
    "final_data.head(12)\n"
   ]
  },
  {
   "cell_type": "code",
   "execution_count": 11,
   "id": "521d5edf",
   "metadata": {},
   "outputs": [
    {
     "data": {
      "text/plain": [
       "(280, 8)"
      ]
     },
     "execution_count": 11,
     "metadata": {},
     "output_type": "execute_result"
    }
   ],
   "source": [
    "final_data.shape"
   ]
  },
  {
   "cell_type": "code",
   "execution_count": 12,
   "id": "61ff8e7d",
   "metadata": {},
   "outputs": [],
   "source": [
    "def clean_text(text):\n",
    "    if pd.isna(text) or str(text).strip().lower() == 'na' or not str(text).strip():\n",
    "        cleaned_text = 'undisclosed'\n",
    "    else:\n",
    "        pattern = r'[^a-zA-Z0-9\\s]'  # Keep letters, numbers, and spaces\n",
    "        cleaned_text = re.sub(pattern, '', str(text))\n",
    "    return cleaned_text\n",
    "def clean_income(income):\n",
    "    if income.strip().lower() == 'na' or not income.strip():\n",
    "        cleaned_income = 'undisclosed'\n",
    "    else:\n",
    "        cleaned_income = re.sub(r'[,$]', '', income)  # Remove commas and dollar signs\n",
    "    return cleaned_income\n",
    "def disability_status(disability_status):\n",
    "    if disability_status.lower() == \"i do not have a disability\":\n",
    "        return \"no disability\"\n",
    "    elif disability_status.lower() == \"i have a disability\":\n",
    "        return \"has disability\"\n",
    "    elif disability_status.lower() == \"na\":\n",
    "        return \"undisclosed\"\n",
    "    else:\n",
    "        return disability_status\n",
    "    "
   ]
  },
  {
   "cell_type": "code",
   "execution_count": 13,
   "id": "5718e515",
   "metadata": {},
   "outputs": [],
   "source": [
    "final_data.loc[:, 'ethnicity'] = final_data['ethnicity'].apply(clean_text)\n",
    "final_data.loc[:, 'gender'] = final_data['gender'].apply(clean_text)\n",
    "# final_data.loc[:, 'race'] = final_data['race'].apply(clean_text)\n",
    "final_data.loc[:, 'education'] = final_data['education'].apply(clean_text)\n",
    "# final_data.loc[:, 'marital_status'] = final_data['marital_status'].apply(clean_text)\n",
    "final_data.loc[:, 'employment'] = final_data['employment'].apply(clean_text)\n",
    "# final_data.loc[:, 'language'] = final_data['language'].apply(clean_text)\n",
    "final_data.loc[:, 'disability'] = final_data['disability'].apply(disability_status)\n",
    "final_data.loc[:, 'income'] = final_data['income'].apply(clean_income)"
   ]
  },
  {
   "cell_type": "code",
   "execution_count": 14,
   "id": "ee23722a",
   "metadata": {},
   "outputs": [],
   "source": [
    "# Creating interaction variable: 'Gender-Marital Status'\n",
    "# final_data['Gender-Marital Status'] = final_data['gender'] + '-' + final_data['marital_status']"
   ]
  },
  {
   "cell_type": "code",
   "execution_count": 15,
   "id": "304655d8",
   "metadata": {},
   "outputs": [],
   "source": [
    "# final_data.drop(['gender', 'marital_status'], axis=1, inplace=True)"
   ]
  },
  {
   "cell_type": "code",
   "execution_count": 16,
   "id": "7744c08b",
   "metadata": {},
   "outputs": [],
   "source": [
    "def encode_income(income_category):\n",
    "    income_encoding = {\n",
    "        'Less than 25000': 0,\n",
    "        '25000 - 49999': 1,\n",
    "        '50000 - 74999': 2,\n",
    "        '75000 - 99999': 3,\n",
    "        '100000 - 149999': 4,\n",
    "        '150000 or more': 5,\n",
    "        'prefer not to say': 6\n",
    "    }\n",
    "    \n",
    "    return income_encoding.get(income_category, -1)\n",
    "\n",
    "\n",
    "def encode_age(age_group):\n",
    "    age_encoding = {\n",
    "        '18-24': 0,\n",
    "        '25-34': 1,\n",
    "        '35-44': 2,\n",
    "        '45-54': 3,\n",
    "        '55-64': 4,\n",
    "        '65 and above': 5,\n",
    "        'Prefer not to say': 6\n",
    "    }\n",
    "    \n",
    "    return age_encoding.get(age_group, -1)"
   ]
  },
  {
   "cell_type": "code",
   "execution_count": 17,
   "id": "32febecd",
   "metadata": {},
   "outputs": [],
   "source": [
    "final_data['income'] = final_data['income'].apply(encode_income)\n",
    "final_data['age'] = final_data['age'].apply(encode_age)"
   ]
  },
  {
   "cell_type": "code",
   "execution_count": 18,
   "id": "9301279f",
   "metadata": {},
   "outputs": [
    {
     "data": {
      "text/plain": [
       "(280, 8)"
      ]
     },
     "execution_count": 18,
     "metadata": {},
     "output_type": "execute_result"
    }
   ],
   "source": [
    "final_data.shape"
   ]
  },
  {
   "cell_type": "code",
   "execution_count": 19,
   "id": "806b2625",
   "metadata": {},
   "outputs": [
    {
     "data": {
      "text/html": [
       "<div>\n",
       "<style scoped>\n",
       "    .dataframe tbody tr th:only-of-type {\n",
       "        vertical-align: middle;\n",
       "    }\n",
       "\n",
       "    .dataframe tbody tr th {\n",
       "        vertical-align: top;\n",
       "    }\n",
       "\n",
       "    .dataframe thead th {\n",
       "        text-align: right;\n",
       "    }\n",
       "</style>\n",
       "<table border=\"1\" class=\"dataframe\">\n",
       "  <thead>\n",
       "    <tr style=\"text-align: right;\">\n",
       "      <th></th>\n",
       "      <th>age</th>\n",
       "      <th>gender</th>\n",
       "      <th>ethnicity</th>\n",
       "      <th>education</th>\n",
       "      <th>income</th>\n",
       "      <th>employment</th>\n",
       "      <th>disability</th>\n",
       "      <th>choice</th>\n",
       "    </tr>\n",
       "  </thead>\n",
       "  <tbody>\n",
       "    <tr>\n",
       "      <th>0</th>\n",
       "      <td>3</td>\n",
       "      <td>female</td>\n",
       "      <td>hispanic</td>\n",
       "      <td>Bachelor</td>\n",
       "      <td>0</td>\n",
       "      <td>Employed Part time</td>\n",
       "      <td>no disability</td>\n",
       "      <td>Original</td>\n",
       "    </tr>\n",
       "    <tr>\n",
       "      <th>1</th>\n",
       "      <td>1</td>\n",
       "      <td>male</td>\n",
       "      <td>non hispanic</td>\n",
       "      <td>Bachelor</td>\n",
       "      <td>2</td>\n",
       "      <td>Unemployed</td>\n",
       "      <td>no disability</td>\n",
       "      <td>Simplier</td>\n",
       "    </tr>\n",
       "    <tr>\n",
       "      <th>2</th>\n",
       "      <td>3</td>\n",
       "      <td>male</td>\n",
       "      <td>hispanic</td>\n",
       "      <td>less than high school</td>\n",
       "      <td>0</td>\n",
       "      <td>Employed Full time</td>\n",
       "      <td>no disability</td>\n",
       "      <td>Simplier</td>\n",
       "    </tr>\n",
       "  </tbody>\n",
       "</table>\n",
       "</div>"
      ],
      "text/plain": [
       "   age  gender     ethnicity              education  income  \\\n",
       "0    3  female      hispanic               Bachelor       0   \n",
       "1    1    male  non hispanic               Bachelor       2   \n",
       "2    3    male      hispanic  less than high school       0   \n",
       "\n",
       "           employment     disability    choice  \n",
       "0  Employed Part time  no disability  Original  \n",
       "1          Unemployed  no disability  Simplier  \n",
       "2  Employed Full time  no disability  Simplier  "
      ]
     },
     "execution_count": 19,
     "metadata": {},
     "output_type": "execute_result"
    }
   ],
   "source": [
    "final_data.head(3)"
   ]
  },
  {
   "cell_type": "code",
   "execution_count": 20,
   "id": "c5489f7a",
   "metadata": {},
   "outputs": [],
   "source": [
    "final_data.to_excel('random_forest_data.xlsx', index=False)"
   ]
  },
  {
   "cell_type": "code",
   "execution_count": 21,
   "id": "a0b15445",
   "metadata": {},
   "outputs": [],
   "source": [
    "encoded_data = pd.get_dummies(final_data, drop_first=True)"
   ]
  },
  {
   "cell_type": "code",
   "execution_count": 22,
   "id": "7577d63a",
   "metadata": {},
   "outputs": [
    {
     "data": {
      "text/plain": [
       "(280, 18)"
      ]
     },
     "execution_count": 22,
     "metadata": {},
     "output_type": "execute_result"
    }
   ],
   "source": [
    "encoded_data.shape"
   ]
  },
  {
   "cell_type": "code",
   "execution_count": 23,
   "id": "272897fa",
   "metadata": {},
   "outputs": [
    {
     "data": {
      "text/html": [
       "<div>\n",
       "<style scoped>\n",
       "    .dataframe tbody tr th:only-of-type {\n",
       "        vertical-align: middle;\n",
       "    }\n",
       "\n",
       "    .dataframe tbody tr th {\n",
       "        vertical-align: top;\n",
       "    }\n",
       "\n",
       "    .dataframe thead th {\n",
       "        text-align: right;\n",
       "    }\n",
       "</style>\n",
       "<table border=\"1\" class=\"dataframe\">\n",
       "  <thead>\n",
       "    <tr style=\"text-align: right;\">\n",
       "      <th></th>\n",
       "      <th>age</th>\n",
       "      <th>income</th>\n",
       "      <th>gender_male</th>\n",
       "      <th>ethnicity_non hispanic</th>\n",
       "      <th>education_Bachelor</th>\n",
       "      <th>education_High School</th>\n",
       "      <th>education_Master</th>\n",
       "      <th>education_less than high school</th>\n",
       "      <th>education_undisclosed</th>\n",
       "      <th>employment_Employed Part time</th>\n",
       "      <th>employment_Retired</th>\n",
       "      <th>employment_Self employed</th>\n",
       "      <th>employment_Student</th>\n",
       "      <th>employment_Unemployed</th>\n",
       "      <th>disability_undisclosed</th>\n",
       "      <th>choice_Original</th>\n",
       "      <th>choice_Persuasive</th>\n",
       "      <th>choice_Simplier</th>\n",
       "    </tr>\n",
       "  </thead>\n",
       "  <tbody>\n",
       "    <tr>\n",
       "      <th>0</th>\n",
       "      <td>3</td>\n",
       "      <td>0</td>\n",
       "      <td>False</td>\n",
       "      <td>False</td>\n",
       "      <td>True</td>\n",
       "      <td>False</td>\n",
       "      <td>False</td>\n",
       "      <td>False</td>\n",
       "      <td>False</td>\n",
       "      <td>True</td>\n",
       "      <td>False</td>\n",
       "      <td>False</td>\n",
       "      <td>False</td>\n",
       "      <td>False</td>\n",
       "      <td>False</td>\n",
       "      <td>True</td>\n",
       "      <td>False</td>\n",
       "      <td>False</td>\n",
       "    </tr>\n",
       "    <tr>\n",
       "      <th>1</th>\n",
       "      <td>1</td>\n",
       "      <td>2</td>\n",
       "      <td>True</td>\n",
       "      <td>True</td>\n",
       "      <td>True</td>\n",
       "      <td>False</td>\n",
       "      <td>False</td>\n",
       "      <td>False</td>\n",
       "      <td>False</td>\n",
       "      <td>False</td>\n",
       "      <td>False</td>\n",
       "      <td>False</td>\n",
       "      <td>False</td>\n",
       "      <td>True</td>\n",
       "      <td>False</td>\n",
       "      <td>False</td>\n",
       "      <td>False</td>\n",
       "      <td>True</td>\n",
       "    </tr>\n",
       "    <tr>\n",
       "      <th>2</th>\n",
       "      <td>3</td>\n",
       "      <td>0</td>\n",
       "      <td>True</td>\n",
       "      <td>False</td>\n",
       "      <td>False</td>\n",
       "      <td>False</td>\n",
       "      <td>False</td>\n",
       "      <td>True</td>\n",
       "      <td>False</td>\n",
       "      <td>False</td>\n",
       "      <td>False</td>\n",
       "      <td>False</td>\n",
       "      <td>False</td>\n",
       "      <td>False</td>\n",
       "      <td>False</td>\n",
       "      <td>False</td>\n",
       "      <td>False</td>\n",
       "      <td>True</td>\n",
       "    </tr>\n",
       "    <tr>\n",
       "      <th>3</th>\n",
       "      <td>4</td>\n",
       "      <td>1</td>\n",
       "      <td>False</td>\n",
       "      <td>True</td>\n",
       "      <td>False</td>\n",
       "      <td>False</td>\n",
       "      <td>False</td>\n",
       "      <td>False</td>\n",
       "      <td>False</td>\n",
       "      <td>False</td>\n",
       "      <td>False</td>\n",
       "      <td>False</td>\n",
       "      <td>False</td>\n",
       "      <td>False</td>\n",
       "      <td>False</td>\n",
       "      <td>False</td>\n",
       "      <td>True</td>\n",
       "      <td>False</td>\n",
       "    </tr>\n",
       "    <tr>\n",
       "      <th>4</th>\n",
       "      <td>1</td>\n",
       "      <td>0</td>\n",
       "      <td>False</td>\n",
       "      <td>False</td>\n",
       "      <td>False</td>\n",
       "      <td>False</td>\n",
       "      <td>False</td>\n",
       "      <td>False</td>\n",
       "      <td>False</td>\n",
       "      <td>False</td>\n",
       "      <td>False</td>\n",
       "      <td>False</td>\n",
       "      <td>False</td>\n",
       "      <td>False</td>\n",
       "      <td>False</td>\n",
       "      <td>False</td>\n",
       "      <td>False</td>\n",
       "      <td>False</td>\n",
       "    </tr>\n",
       "    <tr>\n",
       "      <th>...</th>\n",
       "      <td>...</td>\n",
       "      <td>...</td>\n",
       "      <td>...</td>\n",
       "      <td>...</td>\n",
       "      <td>...</td>\n",
       "      <td>...</td>\n",
       "      <td>...</td>\n",
       "      <td>...</td>\n",
       "      <td>...</td>\n",
       "      <td>...</td>\n",
       "      <td>...</td>\n",
       "      <td>...</td>\n",
       "      <td>...</td>\n",
       "      <td>...</td>\n",
       "      <td>...</td>\n",
       "      <td>...</td>\n",
       "      <td>...</td>\n",
       "      <td>...</td>\n",
       "    </tr>\n",
       "    <tr>\n",
       "      <th>275</th>\n",
       "      <td>-1</td>\n",
       "      <td>0</td>\n",
       "      <td>False</td>\n",
       "      <td>True</td>\n",
       "      <td>False</td>\n",
       "      <td>False</td>\n",
       "      <td>False</td>\n",
       "      <td>False</td>\n",
       "      <td>False</td>\n",
       "      <td>False</td>\n",
       "      <td>False</td>\n",
       "      <td>False</td>\n",
       "      <td>False</td>\n",
       "      <td>False</td>\n",
       "      <td>False</td>\n",
       "      <td>False</td>\n",
       "      <td>False</td>\n",
       "      <td>False</td>\n",
       "    </tr>\n",
       "    <tr>\n",
       "      <th>276</th>\n",
       "      <td>1</td>\n",
       "      <td>1</td>\n",
       "      <td>True</td>\n",
       "      <td>True</td>\n",
       "      <td>False</td>\n",
       "      <td>False</td>\n",
       "      <td>False</td>\n",
       "      <td>False</td>\n",
       "      <td>False</td>\n",
       "      <td>False</td>\n",
       "      <td>False</td>\n",
       "      <td>True</td>\n",
       "      <td>False</td>\n",
       "      <td>False</td>\n",
       "      <td>False</td>\n",
       "      <td>False</td>\n",
       "      <td>True</td>\n",
       "      <td>False</td>\n",
       "    </tr>\n",
       "    <tr>\n",
       "      <th>277</th>\n",
       "      <td>1</td>\n",
       "      <td>-1</td>\n",
       "      <td>False</td>\n",
       "      <td>False</td>\n",
       "      <td>True</td>\n",
       "      <td>False</td>\n",
       "      <td>False</td>\n",
       "      <td>False</td>\n",
       "      <td>False</td>\n",
       "      <td>False</td>\n",
       "      <td>False</td>\n",
       "      <td>False</td>\n",
       "      <td>True</td>\n",
       "      <td>False</td>\n",
       "      <td>False</td>\n",
       "      <td>False</td>\n",
       "      <td>False</td>\n",
       "      <td>True</td>\n",
       "    </tr>\n",
       "    <tr>\n",
       "      <th>278</th>\n",
       "      <td>1</td>\n",
       "      <td>2</td>\n",
       "      <td>True</td>\n",
       "      <td>True</td>\n",
       "      <td>True</td>\n",
       "      <td>False</td>\n",
       "      <td>False</td>\n",
       "      <td>False</td>\n",
       "      <td>False</td>\n",
       "      <td>True</td>\n",
       "      <td>False</td>\n",
       "      <td>False</td>\n",
       "      <td>False</td>\n",
       "      <td>False</td>\n",
       "      <td>False</td>\n",
       "      <td>False</td>\n",
       "      <td>True</td>\n",
       "      <td>False</td>\n",
       "    </tr>\n",
       "    <tr>\n",
       "      <th>279</th>\n",
       "      <td>1</td>\n",
       "      <td>2</td>\n",
       "      <td>True</td>\n",
       "      <td>True</td>\n",
       "      <td>True</td>\n",
       "      <td>False</td>\n",
       "      <td>False</td>\n",
       "      <td>False</td>\n",
       "      <td>False</td>\n",
       "      <td>False</td>\n",
       "      <td>False</td>\n",
       "      <td>False</td>\n",
       "      <td>False</td>\n",
       "      <td>False</td>\n",
       "      <td>False</td>\n",
       "      <td>False</td>\n",
       "      <td>True</td>\n",
       "      <td>False</td>\n",
       "    </tr>\n",
       "  </tbody>\n",
       "</table>\n",
       "<p>280 rows × 18 columns</p>\n",
       "</div>"
      ],
      "text/plain": [
       "     age  income  gender_male  ethnicity_non hispanic  education_Bachelor  \\\n",
       "0      3       0        False                   False                True   \n",
       "1      1       2         True                    True                True   \n",
       "2      3       0         True                   False               False   \n",
       "3      4       1        False                    True               False   \n",
       "4      1       0        False                   False               False   \n",
       "..   ...     ...          ...                     ...                 ...   \n",
       "275   -1       0        False                    True               False   \n",
       "276    1       1         True                    True               False   \n",
       "277    1      -1        False                   False                True   \n",
       "278    1       2         True                    True                True   \n",
       "279    1       2         True                    True                True   \n",
       "\n",
       "     education_High School  education_Master  education_less than high school  \\\n",
       "0                    False             False                            False   \n",
       "1                    False             False                            False   \n",
       "2                    False             False                             True   \n",
       "3                    False             False                            False   \n",
       "4                    False             False                            False   \n",
       "..                     ...               ...                              ...   \n",
       "275                  False             False                            False   \n",
       "276                  False             False                            False   \n",
       "277                  False             False                            False   \n",
       "278                  False             False                            False   \n",
       "279                  False             False                            False   \n",
       "\n",
       "     education_undisclosed  employment_Employed Part time  employment_Retired  \\\n",
       "0                    False                           True               False   \n",
       "1                    False                          False               False   \n",
       "2                    False                          False               False   \n",
       "3                    False                          False               False   \n",
       "4                    False                          False               False   \n",
       "..                     ...                            ...                 ...   \n",
       "275                  False                          False               False   \n",
       "276                  False                          False               False   \n",
       "277                  False                          False               False   \n",
       "278                  False                           True               False   \n",
       "279                  False                          False               False   \n",
       "\n",
       "     employment_Self employed  employment_Student  employment_Unemployed  \\\n",
       "0                       False               False                  False   \n",
       "1                       False               False                   True   \n",
       "2                       False               False                  False   \n",
       "3                       False               False                  False   \n",
       "4                       False               False                  False   \n",
       "..                        ...                 ...                    ...   \n",
       "275                     False               False                  False   \n",
       "276                      True               False                  False   \n",
       "277                     False                True                  False   \n",
       "278                     False               False                  False   \n",
       "279                     False               False                  False   \n",
       "\n",
       "     disability_undisclosed  choice_Original  choice_Persuasive  \\\n",
       "0                     False             True              False   \n",
       "1                     False            False              False   \n",
       "2                     False            False              False   \n",
       "3                     False            False               True   \n",
       "4                     False            False              False   \n",
       "..                      ...              ...                ...   \n",
       "275                   False            False              False   \n",
       "276                   False            False               True   \n",
       "277                   False            False              False   \n",
       "278                   False            False               True   \n",
       "279                   False            False               True   \n",
       "\n",
       "     choice_Simplier  \n",
       "0              False  \n",
       "1               True  \n",
       "2               True  \n",
       "3              False  \n",
       "4              False  \n",
       "..               ...  \n",
       "275            False  \n",
       "276            False  \n",
       "277             True  \n",
       "278            False  \n",
       "279            False  \n",
       "\n",
       "[280 rows x 18 columns]"
      ]
     },
     "execution_count": 23,
     "metadata": {},
     "output_type": "execute_result"
    }
   ],
   "source": [
    "encoded_data"
   ]
  },
  {
   "cell_type": "code",
   "execution_count": 24,
   "id": "ff7e569c",
   "metadata": {},
   "outputs": [
    {
     "data": {
      "text/plain": [
       "Index(['age', 'income', 'gender_male', 'ethnicity_non hispanic',\n",
       "       'education_Bachelor', 'education_High School', 'education_Master',\n",
       "       'education_less than high school', 'education_undisclosed',\n",
       "       'employment_Employed Part time', 'employment_Retired',\n",
       "       'employment_Self employed', 'employment_Student',\n",
       "       'employment_Unemployed', 'disability_undisclosed', 'choice_Original',\n",
       "       'choice_Persuasive', 'choice_Simplier'],\n",
       "      dtype='object')"
      ]
     },
     "execution_count": 24,
     "metadata": {},
     "output_type": "execute_result"
    }
   ],
   "source": [
    "encoded_data.columns"
   ]
  },
  {
   "cell_type": "code",
   "execution_count": 25,
   "id": "692be406",
   "metadata": {},
   "outputs": [
    {
     "data": {
      "text/plain": [
       "(280, 18)"
      ]
     },
     "execution_count": 25,
     "metadata": {},
     "output_type": "execute_result"
    }
   ],
   "source": [
    "encoded_data.shape"
   ]
  },
  {
   "cell_type": "code",
   "execution_count": 26,
   "id": "1fcb35ed",
   "metadata": {},
   "outputs": [],
   "source": [
    "encoded_data.to_excel('larger_data.xlsx', index=False)"
   ]
  },
  {
   "cell_type": "code",
   "execution_count": 27,
   "id": "dd33b6f0",
   "metadata": {},
   "outputs": [
    {
     "name": "stdout",
     "output_type": "stream",
     "text": [
      "Note: you may need to restart the kernel to use updated packages.Requirement already satisfied: matplotlib in c:\\users\\owner\\appdata\\local\\programs\\python\\python310\\lib\\site-packages (3.8.0)\n",
      "Requirement already satisfied: contourpy>=1.0.1 in c:\\users\\owner\\appdata\\local\\programs\\python\\python310\\lib\\site-packages (from matplotlib) (1.1.0)\n",
      "Requirement already satisfied: cycler>=0.10 in c:\\users\\owner\\appdata\\local\\programs\\python\\python310\\lib\\site-packages (from matplotlib) (0.11.0)\n",
      "Requirement already satisfied: fonttools>=4.22.0 in c:\\users\\owner\\appdata\\local\\programs\\python\\python310\\lib\\site-packages (from matplotlib) (4.42.1)\n",
      "Requirement already satisfied: kiwisolver>=1.0.1 in c:\\users\\owner\\appdata\\local\\programs\\python\\python310\\lib\\site-packages (from matplotlib) (1.4.5)\n",
      "Requirement already satisfied: numpy<2,>=1.21 in c:\\users\\owner\\appdata\\local\\programs\\python\\python310\\lib\\site-packages (from matplotlib) (1.25.2)\n",
      "Requirement already satisfied: packaging>=20.0 in c:\\users\\owner\\appdata\\roaming\\python\\python310\\site-packages (from matplotlib) (23.1)\n",
      "Requirement already satisfied: pillow>=6.2.0 in c:\\users\\owner\\appdata\\local\\programs\\python\\python310\\lib\\site-packages (from matplotlib) (10.0.0)\n",
      "Requirement already satisfied: pyparsing>=2.3.1 in c:\\users\\owner\\appdata\\local\\programs\\python\\python310\\lib\\site-packages (from matplotlib) (3.1.1)\n",
      "Requirement already satisfied: python-dateutil>=2.7 in c:\\users\\owner\\appdata\\roaming\\python\\python310\\site-packages (from matplotlib) (2.8.2)\n",
      "Requirement already satisfied: six>=1.5 in c:\\users\\owner\\appdata\\roaming\\python\\python310\\site-packages (from python-dateutil>=2.7->matplotlib) (1.16.0)\n",
      "\n"
     ]
    },
    {
     "name": "stderr",
     "output_type": "stream",
     "text": [
      "\n",
      "[notice] A new release of pip is available: 23.3.2 -> 24.0\n",
      "[notice] To update, run: python.exe -m pip install --upgrade pip\n"
     ]
    }
   ],
   "source": [
    "pip install matplotlib"
   ]
  },
  {
   "cell_type": "code",
   "execution_count": 28,
   "id": "a6e0d784",
   "metadata": {},
   "outputs": [
    {
     "name": "stdout",
     "output_type": "stream",
     "text": [
      "Requirement already satisfied: scikit-learn in c:\\users\\owner\\appdata\\local\\programs\\python\\python310\\lib\\site-packages (1.3.0)\n",
      "Requirement already satisfied: numpy>=1.17.3 in c:\\users\\owner\\appdata\\local\\programs\\python\\python310\\lib\\site-packages (from scikit-learn) (1.25.2)\n",
      "Requirement already satisfied: scipy>=1.5.0 in c:\\users\\owner\\appdata\\local\\programs\\python\\python310\\lib\\site-packages (from scikit-learn) (1.11.2)\n",
      "Requirement already satisfied: joblib>=1.1.1 in c:\\users\\owner\\appdata\\local\\programs\\python\\python310\\lib\\site-packages (from scikit-learn) (1.3.2)\n",
      "Requirement already satisfied: threadpoolctl>=2.0.0 in c:\\users\\owner\\appdata\\local\\programs\\python\\python310\\lib\\site-packages (from scikit-learn) (3.2.0)\n",
      "Note: you may need to restart the kernel to use updated packages.\n"
     ]
    },
    {
     "name": "stderr",
     "output_type": "stream",
     "text": [
      "\n",
      "[notice] A new release of pip is available: 23.3.2 -> 24.0\n",
      "[notice] To update, run: python.exe -m pip install --upgrade pip\n"
     ]
    }
   ],
   "source": [
    "pip install scikit-learn"
   ]
  },
  {
   "cell_type": "markdown",
   "id": "2e8f123a-59a1-4b82-bd42-45d6369e9150",
   "metadata": {},
   "source": [
    "## Model Training"
   ]
  },
  {
   "cell_type": "code",
   "execution_count": 29,
   "id": "cb0263fb-9453-4e2e-8164-7df3a40e552e",
   "metadata": {},
   "outputs": [],
   "source": [
    "import matplotlib.cm as cm\n",
    "import matplotlib.pyplot as plt\n",
    "import numpy as np\n",
    "from sklearn.cluster import KMeans\n",
    "from sklearn.metrics import silhouette_samples, silhouette_score"
   ]
  },
  {
   "cell_type": "markdown",
   "id": "5c38c061",
   "metadata": {},
   "source": [
    "# Dimensionality reduction\n",
    "## PCA\n",
    "The first principal component of the data is the direction in which the data varies the most"
   ]
  },
  {
   "cell_type": "code",
   "execution_count": 30,
   "id": "1a8077d4",
   "metadata": {},
   "outputs": [
    {
     "data": {
      "text/plain": [
       "Index(['age', 'income', 'gender_male', 'ethnicity_non hispanic',\n",
       "       'education_Bachelor', 'education_High School', 'education_Master',\n",
       "       'education_less than high school', 'education_undisclosed',\n",
       "       'employment_Employed Part time', 'employment_Retired',\n",
       "       'employment_Self employed', 'employment_Student',\n",
       "       'employment_Unemployed', 'disability_undisclosed', 'choice_Original',\n",
       "       'choice_Persuasive', 'choice_Simplier'],\n",
       "      dtype='object')"
      ]
     },
     "execution_count": 30,
     "metadata": {},
     "output_type": "execute_result"
    }
   ],
   "source": [
    "encoded_data.columns"
   ]
  },
  {
   "cell_type": "code",
   "execution_count": 31,
   "id": "1e3dce0b",
   "metadata": {},
   "outputs": [],
   "source": [
    "from sklearn.preprocessing import StandardScaler\n",
    "scaler = StandardScaler()"
   ]
  },
  {
   "cell_type": "code",
   "execution_count": 32,
   "id": "0cfb5976",
   "metadata": {},
   "outputs": [],
   "source": [
    "encoded_scaled = scaler.fit_transform(encoded_data)"
   ]
  },
  {
   "cell_type": "code",
   "execution_count": 33,
   "id": "625ce5f4",
   "metadata": {},
   "outputs": [],
   "source": [
    "from sklearn.decomposition import PCA\n"
   ]
  },
  {
   "cell_type": "code",
   "execution_count": 34,
   "id": "017263ce",
   "metadata": {},
   "outputs": [],
   "source": [
    "pca = PCA()\n"
   ]
  },
  {
   "cell_type": "code",
   "execution_count": 35,
   "id": "648781b2",
   "metadata": {},
   "outputs": [
    {
     "data": {
      "text/html": [
       "<style>#sk-container-id-1 {color: black;}#sk-container-id-1 pre{padding: 0;}#sk-container-id-1 div.sk-toggleable {background-color: white;}#sk-container-id-1 label.sk-toggleable__label {cursor: pointer;display: block;width: 100%;margin-bottom: 0;padding: 0.3em;box-sizing: border-box;text-align: center;}#sk-container-id-1 label.sk-toggleable__label-arrow:before {content: \"▸\";float: left;margin-right: 0.25em;color: #696969;}#sk-container-id-1 label.sk-toggleable__label-arrow:hover:before {color: black;}#sk-container-id-1 div.sk-estimator:hover label.sk-toggleable__label-arrow:before {color: black;}#sk-container-id-1 div.sk-toggleable__content {max-height: 0;max-width: 0;overflow: hidden;text-align: left;background-color: #f0f8ff;}#sk-container-id-1 div.sk-toggleable__content pre {margin: 0.2em;color: black;border-radius: 0.25em;background-color: #f0f8ff;}#sk-container-id-1 input.sk-toggleable__control:checked~div.sk-toggleable__content {max-height: 200px;max-width: 100%;overflow: auto;}#sk-container-id-1 input.sk-toggleable__control:checked~label.sk-toggleable__label-arrow:before {content: \"▾\";}#sk-container-id-1 div.sk-estimator input.sk-toggleable__control:checked~label.sk-toggleable__label {background-color: #d4ebff;}#sk-container-id-1 div.sk-label input.sk-toggleable__control:checked~label.sk-toggleable__label {background-color: #d4ebff;}#sk-container-id-1 input.sk-hidden--visually {border: 0;clip: rect(1px 1px 1px 1px);clip: rect(1px, 1px, 1px, 1px);height: 1px;margin: -1px;overflow: hidden;padding: 0;position: absolute;width: 1px;}#sk-container-id-1 div.sk-estimator {font-family: monospace;background-color: #f0f8ff;border: 1px dotted black;border-radius: 0.25em;box-sizing: border-box;margin-bottom: 0.5em;}#sk-container-id-1 div.sk-estimator:hover {background-color: #d4ebff;}#sk-container-id-1 div.sk-parallel-item::after {content: \"\";width: 100%;border-bottom: 1px solid gray;flex-grow: 1;}#sk-container-id-1 div.sk-label:hover label.sk-toggleable__label {background-color: #d4ebff;}#sk-container-id-1 div.sk-serial::before {content: \"\";position: absolute;border-left: 1px solid gray;box-sizing: border-box;top: 0;bottom: 0;left: 50%;z-index: 0;}#sk-container-id-1 div.sk-serial {display: flex;flex-direction: column;align-items: center;background-color: white;padding-right: 0.2em;padding-left: 0.2em;position: relative;}#sk-container-id-1 div.sk-item {position: relative;z-index: 1;}#sk-container-id-1 div.sk-parallel {display: flex;align-items: stretch;justify-content: center;background-color: white;position: relative;}#sk-container-id-1 div.sk-item::before, #sk-container-id-1 div.sk-parallel-item::before {content: \"\";position: absolute;border-left: 1px solid gray;box-sizing: border-box;top: 0;bottom: 0;left: 50%;z-index: -1;}#sk-container-id-1 div.sk-parallel-item {display: flex;flex-direction: column;z-index: 1;position: relative;background-color: white;}#sk-container-id-1 div.sk-parallel-item:first-child::after {align-self: flex-end;width: 50%;}#sk-container-id-1 div.sk-parallel-item:last-child::after {align-self: flex-start;width: 50%;}#sk-container-id-1 div.sk-parallel-item:only-child::after {width: 0;}#sk-container-id-1 div.sk-dashed-wrapped {border: 1px dashed gray;margin: 0 0.4em 0.5em 0.4em;box-sizing: border-box;padding-bottom: 0.4em;background-color: white;}#sk-container-id-1 div.sk-label label {font-family: monospace;font-weight: bold;display: inline-block;line-height: 1.2em;}#sk-container-id-1 div.sk-label-container {text-align: center;}#sk-container-id-1 div.sk-container {/* jupyter's `normalize.less` sets `[hidden] { display: none; }` but bootstrap.min.css set `[hidden] { display: none !important; }` so we also need the `!important` here to be able to override the default hidden behavior on the sphinx rendered scikit-learn.org. See: https://github.com/scikit-learn/scikit-learn/issues/21755 */display: inline-block !important;position: relative;}#sk-container-id-1 div.sk-text-repr-fallback {display: none;}</style><div id=\"sk-container-id-1\" class=\"sk-top-container\"><div class=\"sk-text-repr-fallback\"><pre>PCA()</pre><b>In a Jupyter environment, please rerun this cell to show the HTML representation or trust the notebook. <br />On GitHub, the HTML representation is unable to render, please try loading this page with nbviewer.org.</b></div><div class=\"sk-container\" hidden><div class=\"sk-item\"><div class=\"sk-estimator sk-toggleable\"><input class=\"sk-toggleable__control sk-hidden--visually\" id=\"sk-estimator-id-1\" type=\"checkbox\" checked><label for=\"sk-estimator-id-1\" class=\"sk-toggleable__label sk-toggleable__label-arrow\">PCA</label><div class=\"sk-toggleable__content\"><pre>PCA()</pre></div></div></div></div></div>"
      ],
      "text/plain": [
       "PCA()"
      ]
     },
     "execution_count": 35,
     "metadata": {},
     "output_type": "execute_result"
    }
   ],
   "source": [
    "pca.fit(encoded_scaled)"
   ]
  },
  {
   "cell_type": "code",
   "execution_count": 36,
   "id": "503ad3f4",
   "metadata": {},
   "outputs": [],
   "source": [
    "mean = pca.mean_"
   ]
  },
  {
   "cell_type": "code",
   "execution_count": 37,
   "id": "394376ee",
   "metadata": {},
   "outputs": [
    {
     "data": {
      "image/png": "[encoded data removed]",
      "text/plain": [
       "<Figure size 640x480 with 1 Axes>"
      ]
     },
     "metadata": {},
     "output_type": "display_data"
    }
   ],
   "source": [
    "first_pc = pca.components_[0, :]\n",
    "\n",
    "# Plot first_pc as an arrow, starting at mean\n",
    "plt.arrow(mean[0], mean[1], first_pc[0], first_pc[1], color='red', width=0.01)\n",
    "\n",
    "# Keep axes on the same scale\n",
    "plt.axis('equal')\n",
    "plt.show()"
   ]
  },
  {
   "cell_type": "markdown",
   "id": "2c874efc",
   "metadata": {},
   "source": [
    "## PCA Implementation"
   ]
  },
  {
   "cell_type": "code",
   "execution_count": 38,
   "id": "5328a917",
   "metadata": {},
   "outputs": [
    {
     "data": {
      "image/png": "[encoded data removed]",
      "text/plain": [
       "<Figure size 640x480 with 1 Axes>"
      ]
     },
     "metadata": {},
     "output_type": "display_data"
    }
   ],
   "source": [
    "pca = PCA()\n",
    "pca.fit(encoded_scaled)\n",
    "# Elbow method to determine optinal number of components\n",
    "# Proportion of variance explained criterion\n",
    "plt.plot(range(1, len(pca.explained_variance_ratio_) + 1), \n",
    "         np.cumsum(pca.explained_variance_ratio_))\n",
    "plt.xlabel('Number of Components')\n",
    "plt.ylabel('Cumulative Explained Variance')\n",
    "plt.show()"
   ]
  },
  {
   "cell_type": "code",
   "execution_count": 39,
   "id": "04fdd929",
   "metadata": {},
   "outputs": [
    {
     "data": {
      "text/html": [
       "<style>#sk-container-id-2 {color: black;}#sk-container-id-2 pre{padding: 0;}#sk-container-id-2 div.sk-toggleable {background-color: white;}#sk-container-id-2 label.sk-toggleable__label {cursor: pointer;display: block;width: 100%;margin-bottom: 0;padding: 0.3em;box-sizing: border-box;text-align: center;}#sk-container-id-2 label.sk-toggleable__label-arrow:before {content: \"▸\";float: left;margin-right: 0.25em;color: #696969;}#sk-container-id-2 label.sk-toggleable__label-arrow:hover:before {color: black;}#sk-container-id-2 div.sk-estimator:hover label.sk-toggleable__label-arrow:before {color: black;}#sk-container-id-2 div.sk-toggleable__content {max-height: 0;max-width: 0;overflow: hidden;text-align: left;background-color: #f0f8ff;}#sk-container-id-2 div.sk-toggleable__content pre {margin: 0.2em;color: black;border-radius: 0.25em;background-color: #f0f8ff;}#sk-container-id-2 input.sk-toggleable__control:checked~div.sk-toggleable__content {max-height: 200px;max-width: 100%;overflow: auto;}#sk-container-id-2 input.sk-toggleable__control:checked~label.sk-toggleable__label-arrow:before {content: \"▾\";}#sk-container-id-2 div.sk-estimator input.sk-toggleable__control:checked~label.sk-toggleable__label {background-color: #d4ebff;}#sk-container-id-2 div.sk-label input.sk-toggleable__control:checked~label.sk-toggleable__label {background-color: #d4ebff;}#sk-container-id-2 input.sk-hidden--visually {border: 0;clip: rect(1px 1px 1px 1px);clip: rect(1px, 1px, 1px, 1px);height: 1px;margin: -1px;overflow: hidden;padding: 0;position: absolute;width: 1px;}#sk-container-id-2 div.sk-estimator {font-family: monospace;background-color: #f0f8ff;border: 1px dotted black;border-radius: 0.25em;box-sizing: border-box;margin-bottom: 0.5em;}#sk-container-id-2 div.sk-estimator:hover {background-color: #d4ebff;}#sk-container-id-2 div.sk-parallel-item::after {content: \"\";width: 100%;border-bottom: 1px solid gray;flex-grow: 1;}#sk-container-id-2 div.sk-label:hover label.sk-toggleable__label {background-color: #d4ebff;}#sk-container-id-2 div.sk-serial::before {content: \"\";position: absolute;border-left: 1px solid gray;box-sizing: border-box;top: 0;bottom: 0;left: 50%;z-index: 0;}#sk-container-id-2 div.sk-serial {display: flex;flex-direction: column;align-items: center;background-color: white;padding-right: 0.2em;padding-left: 0.2em;position: relative;}#sk-container-id-2 div.sk-item {position: relative;z-index: 1;}#sk-container-id-2 div.sk-parallel {display: flex;align-items: stretch;justify-content: center;background-color: white;position: relative;}#sk-container-id-2 div.sk-item::before, #sk-container-id-2 div.sk-parallel-item::before {content: \"\";position: absolute;border-left: 1px solid gray;box-sizing: border-box;top: 0;bottom: 0;left: 50%;z-index: -1;}#sk-container-id-2 div.sk-parallel-item {display: flex;flex-direction: column;z-index: 1;position: relative;background-color: white;}#sk-container-id-2 div.sk-parallel-item:first-child::after {align-self: flex-end;width: 50%;}#sk-container-id-2 div.sk-parallel-item:last-child::after {align-self: flex-start;width: 50%;}#sk-container-id-2 div.sk-parallel-item:only-child::after {width: 0;}#sk-container-id-2 div.sk-dashed-wrapped {border: 1px dashed gray;margin: 0 0.4em 0.5em 0.4em;box-sizing: border-box;padding-bottom: 0.4em;background-color: white;}#sk-container-id-2 div.sk-label label {font-family: monospace;font-weight: bold;display: inline-block;line-height: 1.2em;}#sk-container-id-2 div.sk-label-container {text-align: center;}#sk-container-id-2 div.sk-container {/* jupyter's `normalize.less` sets `[hidden] { display: none; }` but bootstrap.min.css set `[hidden] { display: none !important; }` so we also need the `!important` here to be able to override the default hidden behavior on the sphinx rendered scikit-learn.org. See: https://github.com/scikit-learn/scikit-learn/issues/21755 */display: inline-block !important;position: relative;}#sk-container-id-2 div.sk-text-repr-fallback {display: none;}</style><div id=\"sk-container-id-2\" class=\"sk-top-container\"><div class=\"sk-text-repr-fallback\"><pre>PCA(n_components=18)</pre><b>In a Jupyter environment, please rerun this cell to show the HTML representation or trust the notebook. <br />On GitHub, the HTML representation is unable to render, please try loading this page with nbviewer.org.</b></div><div class=\"sk-container\" hidden><div class=\"sk-item\"><div class=\"sk-estimator sk-toggleable\"><input class=\"sk-toggleable__control sk-hidden--visually\" id=\"sk-estimator-id-2\" type=\"checkbox\" checked><label for=\"sk-estimator-id-2\" class=\"sk-toggleable__label sk-toggleable__label-arrow\">PCA</label><div class=\"sk-toggleable__content\"><pre>PCA(n_components=18)</pre></div></div></div></div></div>"
      ],
      "text/plain": [
       "PCA(n_components=18)"
      ]
     },
     "execution_count": 39,
     "metadata": {},
     "output_type": "execute_result"
    }
   ],
   "source": [
    "# Scree plot criterion for selecting principal components\n",
    "covar_matrix = PCA(n_components = len(encoded_data.columns))\n",
    "covar_matrix.fit(encoded_scaled)\n"
   ]
  },
  {
   "cell_type": "code",
   "execution_count": 40,
   "id": "38c82f86",
   "metadata": {},
   "outputs": [
    {
     "data": {
      "image/png": "[encoded data removed]",
      "text/plain": [
       "<Figure size 1100x600 with 1 Axes>"
      ]
     },
     "metadata": {},
     "output_type": "display_data"
    }
   ],
   "source": [
    "fig, ax = plt.subplots(figsize=(11, 6)) \n",
    "\n",
    "plt.ylabel('Eigenvalues')\n",
    "plt.xlabel('# of Features')\n",
    "plt.title('PCA Eigenvalues')\n",
    "plt.style.context('seaborn-whitegrid')\n",
    "\n",
    "\n",
    "\n",
    "# plt.xticks(range(len(covar_matrix.explained_variance_)))\n",
    "for x_position in range(len(covar_matrix.explained_variance_)):\n",
    "    plt.scatter(x_position, covar_matrix.explained_variance_[x_position])\n",
    "\n",
    "plt.axhline(y=1, color='gray', linestyle='--')\n",
    "plt.plot(covar_matrix.explained_variance_, color='blue', marker='o', linestyle='--', linewidth=2, markersize=12, markerfacecolor='white', markeredgecolor='black')\n",
    "\n",
    "plt.grid(True, linestyle='-', alpha=0.6)\n",
    "\n",
    "plt.show()\n"
   ]
  },
  {
   "cell_type": "markdown",
   "id": "c0bde885",
   "metadata": {},
   "source": [
    "### Initialize PCA with optimal number of features and train the results with KMeans"
   ]
  },
  {
   "cell_type": "code",
   "execution_count": 41,
   "id": "64c811ed",
   "metadata": {},
   "outputs": [
    {
     "name": "stdout",
     "output_type": "stream",
     "text": [
      "(280, 8)\n"
     ]
    },
    {
     "name": "stderr",
     "output_type": "stream",
     "text": [
      "c:\\Users\\Owner\\AppData\\Local\\Programs\\Python\\Python310\\lib\\site-packages\\sklearn\\base.py:457: UserWarning: X has feature names, but PCA was fitted without feature names\n",
      "  warnings.warn(\n"
     ]
    }
   ],
   "source": [
    "# PCA Implementation w the optimal # of components\n",
    "pca = PCA(n_components = 8)\n",
    "pca.fit(encoded_scaled)\n",
    "pca_features = pca.transform(encoded_data)\n",
    "print(pca_features.shape)"
   ]
  },
  {
   "cell_type": "code",
   "execution_count": 42,
   "id": "33af496f",
   "metadata": {},
   "outputs": [
    {
     "name": "stdout",
     "output_type": "stream",
     "text": [
      "[0.15611993 0.12479317 0.09535176 0.08779861 0.08162012 0.07736758\n",
      " 0.0625826  0.05635986]\n"
     ]
    }
   ],
   "source": [
    "print(pca.explained_variance_ratio_)\n"
   ]
  },
  {
   "cell_type": "markdown",
   "id": "99276bb3",
   "metadata": {},
   "source": [
    "#### Elbow Method"
   ]
  },
  {
   "cell_type": "code",
   "execution_count": 43,
   "id": "f1055f73",
   "metadata": {},
   "outputs": [
    {
     "name": "stderr",
     "output_type": "stream",
     "text": [
      "c:\\Users\\Owner\\AppData\\Local\\Programs\\Python\\Python310\\lib\\site-packages\\sklearn\\cluster\\_kmeans.py:1412: FutureWarning: The default value of `n_init` will change from 10 to 'auto' in 1.4. Set the value of `n_init` explicitly to suppress the warning\n",
      "  super()._check_params_vs_input(X, default_n_init=10)\n"
     ]
    },
    {
     "name": "stderr",
     "output_type": "stream",
     "text": [
      "c:\\Users\\Owner\\AppData\\Local\\Programs\\Python\\Python310\\lib\\site-packages\\sklearn\\cluster\\_kmeans.py:1412: FutureWarning: The default value of `n_init` will change from 10 to 'auto' in 1.4. Set the value of `n_init` explicitly to suppress the warning\n",
      "  super()._check_params_vs_input(X, default_n_init=10)\n",
      "c:\\Users\\Owner\\AppData\\Local\\Programs\\Python\\Python310\\lib\\site-packages\\sklearn\\cluster\\_kmeans.py:1412: FutureWarning: The default value of `n_init` will change from 10 to 'auto' in 1.4. Set the value of `n_init` explicitly to suppress the warning\n",
      "  super()._check_params_vs_input(X, default_n_init=10)\n",
      "c:\\Users\\Owner\\AppData\\Local\\Programs\\Python\\Python310\\lib\\site-packages\\sklearn\\cluster\\_kmeans.py:1412: FutureWarning: The default value of `n_init` will change from 10 to 'auto' in 1.4. Set the value of `n_init` explicitly to suppress the warning\n",
      "  super()._check_params_vs_input(X, default_n_init=10)\n",
      "c:\\Users\\Owner\\AppData\\Local\\Programs\\Python\\Python310\\lib\\site-packages\\sklearn\\cluster\\_kmeans.py:1412: FutureWarning: The default value of `n_init` will change from 10 to 'auto' in 1.4. Set the value of `n_init` explicitly to suppress the warning\n",
      "  super()._check_params_vs_input(X, default_n_init=10)\n",
      "c:\\Users\\Owner\\AppData\\Local\\Programs\\Python\\Python310\\lib\\site-packages\\sklearn\\cluster\\_kmeans.py:1412: FutureWarning: The default value of `n_init` will change from 10 to 'auto' in 1.4. Set the value of `n_init` explicitly to suppress the warning\n",
      "  super()._check_params_vs_input(X, default_n_init=10)\n",
      "c:\\Users\\Owner\\AppData\\Local\\Programs\\Python\\Python310\\lib\\site-packages\\sklearn\\cluster\\_kmeans.py:1412: FutureWarning: The default value of `n_init` will change from 10 to 'auto' in 1.4. Set the value of `n_init` explicitly to suppress the warning\n",
      "  super()._check_params_vs_input(X, default_n_init=10)\n",
      "c:\\Users\\Owner\\AppData\\Local\\Programs\\Python\\Python310\\lib\\site-packages\\sklearn\\cluster\\_kmeans.py:1412: FutureWarning: The default value of `n_init` will change from 10 to 'auto' in 1.4. Set the value of `n_init` explicitly to suppress the warning\n",
      "  super()._check_params_vs_input(X, default_n_init=10)\n",
      "c:\\Users\\Owner\\AppData\\Local\\Programs\\Python\\Python310\\lib\\site-packages\\sklearn\\cluster\\_kmeans.py:1412: FutureWarning: The default value of `n_init` will change from 10 to 'auto' in 1.4. Set the value of `n_init` explicitly to suppress the warning\n",
      "  super()._check_params_vs_input(X, default_n_init=10)\n",
      "c:\\Users\\Owner\\AppData\\Local\\Programs\\Python\\Python310\\lib\\site-packages\\sklearn\\cluster\\_kmeans.py:1412: FutureWarning: The default value of `n_init` will change from 10 to 'auto' in 1.4. Set the value of `n_init` explicitly to suppress the warning\n",
      "  super()._check_params_vs_input(X, default_n_init=10)\n"
     ]
    },
    {
     "data": {
      "image/png": "[encoded data removed]",
      "text/plain": [
       "<Figure size 640x480 with 1 Axes>"
      ]
     },
     "metadata": {},
     "output_type": "display_data"
    }
   ],
   "source": [
    "wcss = []\n",
    "for k in range(1, 11):\n",
    "    kmeans = KMeans(n_clusters=k, random_state=42)\n",
    "    kmeans.fit(pca_features)\n",
    "    wcss.append(kmeans.inertia_)  # Inertia is the WCSS\n",
    "\n",
    "# Plotting the elbow curve\n",
    "plt.plot(range(1, 11), wcss, marker='o')\n",
    "plt.title('Elbow Method for selection of optimal \"K\" clusters')\n",
    "plt.xlabel('Number of Clusters (K)')\n",
    "plt.ylabel('WCSS (Within-Cluster Sum of Squares)')\n",
    "plt.show()"
   ]
  },
  {
   "cell_type": "markdown",
   "id": "8c626157",
   "metadata": {},
   "source": [
    "#### Silhouette Analysis"
   ]
  },
  {
   "cell_type": "code",
   "execution_count": 44,
   "id": "f68f9725",
   "metadata": {},
   "outputs": [
    {
     "ename": "NameError",
     "evalue": "name 'X' is not defined",
     "output_type": "error",
     "traceback": [
      "\u001b[1;31m---------------------------------------------------------------------------\u001b[0m",
      "\u001b[1;31mNameError\u001b[0m                                 Traceback (most recent call last)",
      "Cell \u001b[1;32mIn[44], line 12\u001b[0m\n\u001b[0;32m     10\u001b[0m ax1\u001b[38;5;241m.\u001b[39mset_xlim([\u001b[38;5;241m-\u001b[39m\u001b[38;5;241m0.1\u001b[39m, \u001b[38;5;241m1\u001b[39m])\n\u001b[0;32m     11\u001b[0m \u001b[38;5;66;03m# The (n_clusters+1)*10 is for inserting blank space between silhouette plots of individual clusters\u001b[39;00m\n\u001b[1;32m---> 12\u001b[0m ax1\u001b[38;5;241m.\u001b[39mset_ylim([\u001b[38;5;241m0\u001b[39m, \u001b[38;5;28mlen\u001b[39m(\u001b[43mX\u001b[49m) \u001b[38;5;241m+\u001b[39m (n_clusters \u001b[38;5;241m+\u001b[39m \u001b[38;5;241m1\u001b[39m) \u001b[38;5;241m*\u001b[39m \u001b[38;5;241m10\u001b[39m])\n\u001b[0;32m     14\u001b[0m \u001b[38;5;66;03m# Initialize the KMeans object and fit it to the data\u001b[39;00m\n\u001b[0;32m     15\u001b[0m kmeans \u001b[38;5;241m=\u001b[39m KMeans(n_clusters\u001b[38;5;241m=\u001b[39mn_clusters, random_state\u001b[38;5;241m=\u001b[39m\u001b[38;5;241m42\u001b[39m)\n",
      "\u001b[1;31mNameError\u001b[0m: name 'X' is not defined"
     ]
    },
    {
     "data": {
      "image/png": "[encoded data removed]",
      "text/plain": [
       "<Figure size 1200x400 with 2 Axes>"
      ]
     },
     "metadata": {},
     "output_type": "display_data"
    }
   ],
   "source": [
    "# Range of cluster numbers (K) to evaluate\n",
    "range_n_clusters = [2, 3, 4, 5, 6, 7, 8, 9, 10]\n",
    "\n",
    "for n_clusters in range_n_clusters:\n",
    "    # Create a subplot with 1 row and 2 columns\n",
    "    fig, (ax1, ax2) = plt.subplots(1, 2, figsize=(12, 4))\n",
    "\n",
    "    # The 1st subplot is the silhouette plot\n",
    "    # The silhouette coefficient can range from -1, 1, but in this example, all lie within [-0.1, 1]\n",
    "    ax1.set_xlim([-0.1, 1])\n",
    "    # The (n_clusters+1)*10 is for inserting blank space between silhouette plots of individual clusters\n",
    "    ax1.set_ylim([0, len(X) + (n_clusters + 1) * 10])\n",
    "\n",
    "    # Initialize the KMeans object and fit it to the data\n",
    "    kmeans = KMeans(n_clusters=n_clusters, random_state=42)\n",
    "    cluster_labels = kmeans.fit_predict(pca_features)\n",
    "\n",
    "    # Compute the silhouette score for the current clustering\n",
    "    silhouette_avg = silhouette_score(X, cluster_labels)\n",
    "    print(f\"For n_clusters = {n_clusters}, the average silhouette score is: {silhouette_avg}\")\n",
    "\n",
    "    # Compute the silhouette scores for each sample\n",
    "    sample_silhouette_values = silhouette_samples(X, cluster_labels)\n",
    "\n",
    "    y_lower = 10\n",
    "    for i in range(n_clusters):\n",
    "        # Aggregate the silhouette scores for samples belonging to the current cluster\n",
    "        ith_cluster_silhouette_values = sample_silhouette_values[cluster_labels == i]\n",
    "\n",
    "        # Sort the silhouette scores\n",
    "        ith_cluster_silhouette_values.sort()\n",
    "\n",
    "        size_cluster_i = ith_cluster_silhouette_values.shape[0]\n",
    "        y_upper = y_lower + size_cluster_i\n",
    "\n",
    "        # Fill the silhouette plot\n",
    "        color = plt.cm.nipy_spectral(float(i) / n_clusters)\n",
    "        ax1.fill_betweenx(np.arange(y_lower, y_upper),\n",
    "                          0, ith_cluster_silhouette_values,\n",
    "                          facecolor=color, edgecolor=color, alpha=0.7)\n",
    "\n",
    "        # Label the silhouette plot with cluster numbers at the middle\n",
    "        ax1.text(-0.05, y_lower + 0.5 * size_cluster_i, str(i))\n",
    "\n",
    "        # Compute the new y_lower for the next plot\n",
    "        y_lower = y_upper + 10  # 10 for the 0 samples\n",
    "\n",
    "    ax1.set_title(\"Silhouette plot for the various clusters.\")\n",
    "    ax1.set_xlabel(\"Silhouette coefficient values\")\n",
    "    ax1.set_ylabel(\"Cluster label\")\n",
    "\n",
    "    # The vertical line for the average silhouette score of all the values\n",
    "    ax1.axvline(x=silhouette_avg, color=\"red\", linestyle=\"--\")\n",
    "    ax1.set_yticks([])  # Clear the y-axis labels\n",
    "    ax1.set_xticks([-0.1, 0, 0.2, 0.4, 0.6, 0.8, 1])\n",
    "\n",
    "    # 2nd Plot showing the actual clusters formed\n",
    "    colors = plt.cm.nipy_spectral(cluster_labels.astype(float) / n_clusters)\n",
    "    ax2.scatter(X[:, 0], X[:, 1], marker='.', s=30, lw=0, alpha=0.7,\n",
    "                c=colors, edgecolor='k')\n",
    "\n",
    "    # Labeling the clusters\n",
    "    centers = kmeans.cluster_centers_\n",
    "    # Draw white circles at cluster centers\n",
    "    ax2.scatter(centers[:, 0], centers[:, 1], marker='o',\n",
    "                c=\"white\", alpha=1, s=200, edgecolor='k')\n",
    "\n",
    "    for i, c in enumerate(centers):\n",
    "        ax2.scatter(c[0], c[1], marker='$%d$' % i, alpha=1,\n",
    "                    s=50, edgecolor='k')\n",
    "\n",
    "    ax2.set_title(\"Visualization of clustered data.\")\n",
    "    ax2.set_xlabel(\"Feature space for the 1st feature\")\n",
    "    ax2.set_ylabel(\"Feature space for the 2nd feature\")\n",
    "\n",
    "    plt.suptitle((\"Silhouette analysis for KMeans clustering on sample data \"\n",
    "                  \"with n_clusters = %d\" % n_clusters),\n",
    "                 fontsize=14, fontweight='bold')\n",
    "\n",
    "plt.show()"
   ]
  },
  {
   "cell_type": "markdown",
   "id": "21de0d15-0745-4871-bdb1-3cd1eaaaabac",
   "metadata": {},
   "source": [
    "#### KMeans"
   ]
  },
  {
   "cell_type": "code",
   "execution_count": null,
   "id": "68453b84",
   "metadata": {},
   "outputs": [
    {
     "name": "stderr",
     "output_type": "stream",
     "text": [
      "c:\\Users\\Owner\\AppData\\Local\\Programs\\Python\\Python310\\lib\\site-packages\\sklearn\\cluster\\_kmeans.py:1412: FutureWarning: The default value of `n_init` will change from 10 to 'auto' in 1.4. Set the value of `n_init` explicitly to suppress the warning\n",
      "  super()._check_params_vs_input(X, default_n_init=10)\n"
     ]
    }
   ],
   "source": [
    "kmeans = KMeans(n_clusters=3, random_state=42)\n",
    "cluster_labels = kmeans.fit_predict(pca_features)\n",
    "\n"
   ]
  },
  {
   "cell_type": "code",
   "execution_count": null,
   "id": "4e1f1b35",
   "metadata": {},
   "outputs": [
    {
     "name": "stdout",
     "output_type": "stream",
     "text": [
      "[1 0 1 1 2 1 1 1 2 1 1 2 2 2 2 0 1 2 0 1 1 0 0 0 0 0 1 1 1 0 2 0 2 0 0 1 0\n",
      " 1 1 2 1 1 1 2 1 1 2 2 2 2 0 1 2 0 1 1 0 0 0 0 0 1 1 1 0 2 0 2 0 0 1 0 1 1\n",
      " 2 1 1 1 2 1 1 2 2 2 2 0 1 2 0 1 1 0 0 0 0 0 1 1 1 0 2 0 2 0 0 1 0 1 1 2 1\n",
      " 1 1 2 1 1 2 2 2 2 0 1 2 0 1 1 0 0 0 0 0 1 1 1 0 2 0 2 0 0 1 0 1 1 2 1 1 1\n",
      " 2 1 1 2 2 2 2 0 1 2 0 1 1 0 0 0 0 0 1 1 1 0 2 0 2 0 0 1 0 1 1 2 1 1 1 2 1\n",
      " 1 2 2 2 2 0 1 2 0 1 1 0 0 0 0 0 1 1 1 0 2 0 2 0 0 1 0 1 1 2 1 1 1 2 1 1 2\n",
      " 2 2 2 0 1 2 0 1 1 0 0 0 0 0 1 1 1 0 2 0 2 0 0 1 0 1 1 2 1 1 1 2 1 1 2 2 2\n",
      " 2 0 1 2 0 1 1 0 0 0 0 0 1 1 1 0 2 0 2 0 0]\n"
     ]
    }
   ],
   "source": [
    "print(cluster_labels)"
   ]
  },
  {
   "cell_type": "code",
   "execution_count": null,
   "id": "5da2af30",
   "metadata": {},
   "outputs": [
    {
     "data": {
      "text/plain": [
       "(280,)"
      ]
     },
     "execution_count": 120,
     "metadata": {},
     "output_type": "execute_result"
    }
   ],
   "source": [
    "cluster_labels.shape"
   ]
  },
  {
   "cell_type": "markdown",
   "id": "61feb147",
   "metadata": {},
   "source": [
    "#### Visualizing the cluster Assignments"
   ]
  },
  {
   "cell_type": "code",
   "execution_count": null,
   "id": "63a61838",
   "metadata": {},
   "outputs": [
    {
     "data": {
      "image/png": "[encoded data removed]",
      "text/plain": [
       "<Figure size 640x480 with 1 Axes>"
      ]
     },
     "metadata": {},
     "output_type": "display_data"
    }
   ],
   "source": [
    "import matplotlib.pyplot as plt\n",
    "\n",
    "plt.scatter(pca_features[:, 0], pca_features[:, 1], c=cluster_labels, cmap='viridis', marker='o', edgecolors='k')\n",
    "plt.title('K-Means Clustering Results')\n",
    "plt.xlabel('Feature 1')\n",
    "plt.ylabel('Feature 2')\n",
    "plt.show()"
   ]
  },
  {
   "cell_type": "code",
   "execution_count": null,
   "id": "35054970-d83a-4a71-b97a-4127cd2f45fd",
   "metadata": {
    "collapsed": true,
    "jupyter": {
     "outputs_hidden": true,
     "source_hidden": true
    },
    "tags": []
   },
   "outputs": [
    {
     "data": {
      "image/png": "[encoded data removed]",
      "text/plain": [
       "<Figure size 640x480 with 1 Axes>"
      ]
     },
     "metadata": {},
     "output_type": "display_data"
    }
   ],
   "source": [
    "# Scatter plot of data points\n",
    "plt.scatter(pca_features[:, 0], pca_features[:, 1], c=cluster_labels, alpha=0.5, label='Data Points')\n",
    "\n",
    "# Scatter plot of centroids\n",
    "plt.scatter(kmeans.cluster_centers_[:, 0], kmeans.cluster_centers_[:, 1], marker='D', s=50, c='red', label='Centroids')\n",
    "\n",
    "# Show the plot\n",
    "plt.legend()\n",
    "plt.title('K-Means Clustering with Centroids')\n",
    "plt.xlabel('PCA Feature 1')\n",
    "plt.ylabel('PCA Feature 2')\n",
    "plt.show()"
   ]
  },
  {
   "cell_type": "code",
   "execution_count": null,
   "id": "334cadc5",
   "metadata": {},
   "outputs": [
    {
     "data": {
      "text/plain": [
       "array([[ 0.47402194,  0.83601277,  1.88078745, ..., -0.28642768,\n",
       "        -1.0271689 ,  0.39477774],\n",
       "       [ 1.76061576, -0.0136512 ,  0.48669027, ...,  0.62195298,\n",
       "        -1.09275754,  0.47854856],\n",
       "       [ 0.0281384 ,  1.19042673,  1.62036155, ...,  1.42478109,\n",
       "        -1.00809304, -0.11463239],\n",
       "       ...,\n",
       "       [-0.49255483, -0.08298703,  0.08740292, ...,  0.52402553,\n",
       "        -0.66622841, -0.40731249],\n",
       "       [ 2.00881279,  0.27307536,  1.04597811, ...,  0.00522226,\n",
       "        -0.62832965, -0.46130126],\n",
       "       [ 1.87975627,  0.22776436,  0.58949943, ...,  0.17121957,\n",
       "        -0.63301154, -0.46859943]])"
      ]
     },
     "execution_count": 125,
     "metadata": {},
     "output_type": "execute_result"
    }
   ],
   "source": [
    "pca_features"
   ]
  }
 ],
 "metadata": {
  "kernelspec": {
   "display_name": "Python 3 (ipykernel)",
   "language": "python",
   "name": "python3"
  },
  "language_info": {
   "codemirror_mode": {
    "name": "ipython",
    "version": 3
   },
   "file_extension": ".py",
   "mimetype": "text/x-python",
   "name": "python",
   "nbconvert_exporter": "python",
   "pygments_lexer": "ipython3",
   "version": "3.10.0"
  }
 },
 "nbformat": 4,
 "nbformat_minor": 5
}
